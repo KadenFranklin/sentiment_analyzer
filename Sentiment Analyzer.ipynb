{
 "cells": [
  {
   "cell_type": "code",
   "execution_count": 241,
   "id": "28290319",
   "metadata": {
    "scrolled": true
   },
   "outputs": [
    {
     "name": "stderr",
     "output_type": "stream",
     "text": [
      "[nltk_data] Downloading package vader_lexicon to C:\\Users\\Kaden's\n",
      "[nltk_data]     Laptop\\AppData\\Roaming\\nltk_data...\n",
      "[nltk_data]   Package vader_lexicon is already up-to-date!\n"
     ]
    },
    {
     "data": {
      "text/plain": [
       "True"
      ]
     },
     "execution_count": 241,
     "metadata": {},
     "output_type": "execute_result"
    }
   ],
   "source": [
    "import nltk\n",
    "nltk.download('vader_lexicon')"
   ]
  },
  {
   "cell_type": "code",
   "execution_count": 242,
   "id": "40358934",
   "metadata": {},
   "outputs": [
    {
     "name": "stdout",
     "output_type": "stream",
     "text": [
      "Defaulting to user installation because normal site-packages is not writeable\n",
      "Requirement already satisfied: translate-api in c:\\users\\kaden's laptop\\appdata\\roaming\\python\\python39\\site-packages (4.9.5)\n",
      "Requirement already satisfied: PyExecJS>=1.5.1 in c:\\users\\kaden's laptop\\appdata\\roaming\\python\\python39\\site-packages (from translate-api) (1.5.1)\n",
      "Requirement already satisfied: pathos>=0.2.7 in c:\\users\\kaden's laptop\\appdata\\roaming\\python\\python39\\site-packages (from translate-api) (0.2.9)\n",
      "Requirement already satisfied: lxml>=4.5.0 in c:\\users\\kaden's laptop\\appdata\\roaming\\python\\python39\\site-packages (from translate-api) (4.9.1)\n",
      "Requirement already satisfied: loguru>=0.4.1 in c:\\users\\kaden's laptop\\appdata\\roaming\\python\\python39\\site-packages (from translate-api) (0.6.0)\n",
      "Requirement already satisfied: requests>=2.25.1 in c:\\users\\kaden's laptop\\appdata\\roaming\\python\\python39\\site-packages (from translate-api) (2.28.1)\n",
      "Requirement already satisfied: win32-setctime>=1.0.0 in c:\\users\\kaden's laptop\\appdata\\roaming\\python\\python39\\site-packages (from loguru>=0.4.1->translate-api) (1.1.0)\n",
      "Requirement already satisfied: colorama>=0.3.4 in c:\\programdata\\anaconda3\\lib\\site-packages (from loguru>=0.4.1->translate-api) (0.4.4)\n",
      "Requirement already satisfied: ppft>=1.7.6.5 in c:\\users\\kaden's laptop\\appdata\\roaming\\python\\python39\\site-packages (from pathos>=0.2.7->translate-api) (1.7.6.5)\n",
      "Requirement already satisfied: pox>=0.3.1 in c:\\users\\kaden's laptop\\appdata\\roaming\\python\\python39\\site-packages (from pathos>=0.2.7->translate-api) (0.3.1)\n",
      "Requirement already satisfied: dill>=0.3.5.1 in c:\\users\\kaden's laptop\\appdata\\roaming\\python\\python39\\site-packages (from pathos>=0.2.7->translate-api) (0.3.5.1)\n",
      "Requirement already satisfied: multiprocess>=0.70.13 in c:\\users\\kaden's laptop\\appdata\\roaming\\python\\python39\\site-packages (from pathos>=0.2.7->translate-api) (0.70.13)\n",
      "Requirement already satisfied: six>=1.7.3 in c:\\programdata\\anaconda3\\lib\\site-packages (from ppft>=1.7.6.5->pathos>=0.2.7->translate-api) (1.16.0)\n",
      "Requirement already satisfied: idna<4,>=2.5 in c:\\users\\kaden's laptop\\appdata\\roaming\\python\\python39\\site-packages (from requests>=2.25.1->translate-api) (2.10)\n",
      "Requirement already satisfied: charset-normalizer<3,>=2 in c:\\programdata\\anaconda3\\lib\\site-packages (from requests>=2.25.1->translate-api) (2.0.4)\n",
      "Requirement already satisfied: certifi>=2017.4.17 in c:\\programdata\\anaconda3\\lib\\site-packages (from requests>=2.25.1->translate-api) (2021.10.8)\n",
      "Requirement already satisfied: urllib3<1.27,>=1.21.1 in c:\\programdata\\anaconda3\\lib\\site-packages (from requests>=2.25.1->translate-api) (1.26.9)\n",
      "Defaulting to user installation because normal site-packages is not writeable\n",
      "Requirement already satisfied: translators in c:\\users\\kaden's laptop\\appdata\\roaming\\python\\python39\\site-packages (5.4.2)\n",
      "Requirement already satisfied: PyExecJS>=1.5.1 in c:\\users\\kaden's laptop\\appdata\\roaming\\python\\python39\\site-packages (from translators) (1.5.1)\n",
      "Requirement already satisfied: requests>=2.28.1 in c:\\users\\kaden's laptop\\appdata\\roaming\\python\\python39\\site-packages (from translators) (2.28.1)\n",
      "Requirement already satisfied: lxml>=4.9.1 in c:\\users\\kaden's laptop\\appdata\\roaming\\python\\python39\\site-packages (from translators) (4.9.1)\n",
      "Requirement already satisfied: pathos>=0.2.9 in c:\\users\\kaden's laptop\\appdata\\roaming\\python\\python39\\site-packages (from translators) (0.2.9)\n",
      "Requirement already satisfied: loguru>=0.6.0 in c:\\users\\kaden's laptop\\appdata\\roaming\\python\\python39\\site-packages (from translators) (0.6.0)\n",
      "Requirement already satisfied: colorama>=0.3.4 in c:\\programdata\\anaconda3\\lib\\site-packages (from loguru>=0.6.0->translators) (0.4.4)\n",
      "Requirement already satisfied: win32-setctime>=1.0.0 in c:\\users\\kaden's laptop\\appdata\\roaming\\python\\python39\\site-packages (from loguru>=0.6.0->translators) (1.1.0)\n",
      "Requirement already satisfied: ppft>=1.7.6.5 in c:\\users\\kaden's laptop\\appdata\\roaming\\python\\python39\\site-packages (from pathos>=0.2.9->translators) (1.7.6.5)\n",
      "Requirement already satisfied: multiprocess>=0.70.13 in c:\\users\\kaden's laptop\\appdata\\roaming\\python\\python39\\site-packages (from pathos>=0.2.9->translators) (0.70.13)\n",
      "Requirement already satisfied: pox>=0.3.1 in c:\\users\\kaden's laptop\\appdata\\roaming\\python\\python39\\site-packages (from pathos>=0.2.9->translators) (0.3.1)\n",
      "Requirement already satisfied: dill>=0.3.5.1 in c:\\users\\kaden's laptop\\appdata\\roaming\\python\\python39\\site-packages (from pathos>=0.2.9->translators) (0.3.5.1)\n",
      "Requirement already satisfied: six>=1.7.3 in c:\\programdata\\anaconda3\\lib\\site-packages (from ppft>=1.7.6.5->pathos>=0.2.9->translators) (1.16.0)\n",
      "Requirement already satisfied: certifi>=2017.4.17 in c:\\programdata\\anaconda3\\lib\\site-packages (from requests>=2.28.1->translators) (2021.10.8)\n",
      "Requirement already satisfied: idna<4,>=2.5 in c:\\users\\kaden's laptop\\appdata\\roaming\\python\\python39\\site-packages (from requests>=2.28.1->translators) (2.10)\n",
      "Requirement already satisfied: urllib3<1.27,>=1.21.1 in c:\\programdata\\anaconda3\\lib\\site-packages (from requests>=2.28.1->translators) (1.26.9)\n",
      "Requirement already satisfied: charset-normalizer<3,>=2 in c:\\programdata\\anaconda3\\lib\\site-packages (from requests>=2.28.1->translators) (2.0.4)\n"
     ]
    }
   ],
   "source": [
    "!pip install translate-api\n",
    "!pip install translators --upgrade"
   ]
  },
  {
   "cell_type": "code",
   "execution_count": 243,
   "id": "97dacd36",
   "metadata": {},
   "outputs": [],
   "source": [
    "import translators as ts"
   ]
  },
  {
   "cell_type": "code",
   "execution_count": 244,
   "id": "855bc12c",
   "metadata": {},
   "outputs": [],
   "source": [
    "import string\n",
    "%matplotlib inline\n",
    "import pandas as pd\n",
    "from nltk import sentiment\n",
    "from IPython.display import display, Markdown\n",
    "from nltk.sentiment.vader import SentimentIntensityAnalyzer\n",
    "from nltk import tokenize\n",
    "from typing import *"
   ]
  },
  {
   "cell_type": "markdown",
   "id": "2d06a641",
   "metadata": {},
   "source": [
    "# Sentiment_Analyzer"
   ]
  },
  {
   "cell_type": "markdown",
   "id": "29874af3",
   "metadata": {},
   "source": [
    "We begin by importing the data file and looking at a portion of our data"
   ]
  },
  {
   "cell_type": "code",
   "execution_count": 245,
   "id": "c406b721",
   "metadata": {
    "scrolled": true
   },
   "outputs": [
    {
     "name": "stdout",
     "output_type": "stream",
     "text": [
      "  Local Names                   Translation    Location Real Names\n",
      "0      Abombo                             _  Kisanagani     Dupont\n",
      "1       Adami                         Madam      Opala     generic\n",
      "2     Adamisu  Knowing eyes, control, anger      Basoko          _\n",
      "3       Aduyi                          Lion           _          _\n",
      "4       Aginu                      Kneeling   Kisangani      Genot\n"
     ]
    },
    {
     "data": {
      "text/html": [
       "<div>\n",
       "<style scoped>\n",
       "    .dataframe tbody tr th:only-of-type {\n",
       "        vertical-align: middle;\n",
       "    }\n",
       "\n",
       "    .dataframe tbody tr th {\n",
       "        vertical-align: top;\n",
       "    }\n",
       "\n",
       "    .dataframe thead th {\n",
       "        text-align: right;\n",
       "    }\n",
       "</style>\n",
       "<table border=\"1\" class=\"dataframe\">\n",
       "  <thead>\n",
       "    <tr style=\"text-align: right;\">\n",
       "      <th></th>\n",
       "      <th>Local Names</th>\n",
       "      <th>Translation</th>\n",
       "      <th>Location</th>\n",
       "      <th>Real Names</th>\n",
       "    </tr>\n",
       "  </thead>\n",
       "  <tbody>\n",
       "    <tr>\n",
       "      <th>count</th>\n",
       "      <td>271</td>\n",
       "      <td>271</td>\n",
       "      <td>267</td>\n",
       "      <td>271</td>\n",
       "    </tr>\n",
       "    <tr>\n",
       "      <th>unique</th>\n",
       "      <td>270</td>\n",
       "      <td>180</td>\n",
       "      <td>81</td>\n",
       "      <td>99</td>\n",
       "    </tr>\n",
       "    <tr>\n",
       "      <th>top</th>\n",
       "      <td>Tuku-Tuku</td>\n",
       "      <td>_</td>\n",
       "      <td>Katanga</td>\n",
       "      <td>_</td>\n",
       "    </tr>\n",
       "    <tr>\n",
       "      <th>freq</th>\n",
       "      <td>2</td>\n",
       "      <td>68</td>\n",
       "      <td>28</td>\n",
       "      <td>130</td>\n",
       "    </tr>\n",
       "  </tbody>\n",
       "</table>\n",
       "</div>"
      ],
      "text/plain": [
       "       Local Names Translation Location Real Names\n",
       "count          271         271      267        271\n",
       "unique         270         180       81         99\n",
       "top      Tuku-Tuku           _  Katanga          _\n",
       "freq             2          68       28        130"
      ]
     },
     "execution_count": 245,
     "metadata": {},
     "output_type": "execute_result"
    }
   ],
   "source": [
    "data = pd.read_csv(r\"C:\\Users\\Kaden's Laptop\\Documents\\GitHub\\KadenFranklin.github.io\\sentiment_analyzer\\names1.csv\")\n",
    "print(data.head())\n",
    "data.describe()"
   ]
  },
  {
   "cell_type": "markdown",
   "id": "71aef221",
   "metadata": {},
   "source": [
    "The data gathered for this analyis is collected from King Leopold's Congo and the \"Scramble for Africa\" by Michael A. Rutz\n",
    "\n",
    "Specifically from page 163 and the 'Sample of names used in this work'.\n",
    "\n",
    "We can see from the commands above that there are 271 rows of names, with 270 unique names, 188 distinct translations, originating from 91 locations. In addition to this, asside from collective 'meta' names there are 99 names given to colonials by natives.\n",
    "\n",
    "The datatypes are as follows:"
   ]
  },
  {
   "cell_type": "code",
   "execution_count": 246,
   "id": "9875e7e2",
   "metadata": {},
   "outputs": [
    {
     "data": {
      "text/plain": [
       "Local Names    object\n",
       "Translation    object\n",
       "Location       object\n",
       "Real Names     object\n",
       "dtype: object"
      ]
     },
     "execution_count": 246,
     "metadata": {},
     "output_type": "execute_result"
    }
   ],
   "source": [
    "data.dtypes"
   ]
  },
  {
   "cell_type": "markdown",
   "id": "427ad0b7",
   "metadata": {},
   "source": [
    "Local Name - Object\n",
    "\n",
    "Translation - Object\n",
    "\n",
    "Location - Object\t\n",
    "\n",
    "Real Name - Object\n",
    "\n",
    "Now just to be certain we will check the dataset for duplicates."
   ]
  },
  {
   "cell_type": "code",
   "execution_count": 247,
   "id": "ff7796cf",
   "metadata": {},
   "outputs": [],
   "source": [
    "i = -1\n",
    "for x in data.duplicated():\n",
    "    i += 1\n",
    "    \n",
    "    if x == True:\n",
    "        print(x)\n",
    "        print(i)"
   ]
  },
  {
   "cell_type": "markdown",
   "id": "08f06c72",
   "metadata": {},
   "source": [
    "Success, no duplicates, Now we move on to the interesting part, [sentiment analysis](https://monkeylearn.com/sentiment-analysis/).\n",
    "\n",
    "Now we can split our data into its corresponding columns so that we can work with it more easily.\n"
   ]
  },
  {
   "cell_type": "code",
   "execution_count": 248,
   "id": "50b61e69",
   "metadata": {},
   "outputs": [],
   "source": [
    "names_1 = list(data['Local Names'])\n",
    "transl = list(data[\"Translation\"])\n",
    "location = list(data[\"Location\"])\n",
    "names_2 = list(data['Real Names'])"
   ]
  },
  {
   "cell_type": "code",
   "execution_count": 249,
   "id": "63defb8e",
   "metadata": {},
   "outputs": [],
   "source": [
    "new_translations = []\n",
    "for x, y in enumerate(names_1):\n",
    "    new_translations.append(ts.google(y))"
   ]
  },
  {
   "cell_type": "markdown",
   "id": "ed1833d1",
   "metadata": {},
   "source": [
    "The function below defines the [markdown](https://www.markdownguide.org/) table, which the results of our analysis will be stored.\n",
    "\n",
    "As you can see there are also some helper function I've created to help iterate through data."
   ]
  },
  {
   "cell_type": "code",
   "execution_count": 250,
   "id": "e9f5f77b",
   "metadata": {},
   "outputs": [],
   "source": [
    "def show_markdown_table(headers: List[str], data: List) -> str:\n",
    "    s = f\"| {' | '.join(headers)} |\\n| {' | '.join([(max(1, len(header) - 1)) * '-' + ':' for header in headers])} |\\n\"\n",
    "    for row in data:\n",
    "        s += f\"| {' | '.join([str(item) for item in row])} |\\n\"\n",
    "    display(Markdown(s))"
   ]
  },
  {
   "cell_type": "markdown",
   "id": "fe9d8a0d",
   "metadata": {},
   "source": [
    "The function below takes in an input of either one name, or a list of names. It will return a resulting markdown table giving the scores of such input names."
   ]
  },
  {
   "cell_type": "code",
   "execution_count": 251,
   "id": "aa9063d3",
   "metadata": {},
   "outputs": [],
   "source": [
    "def en_name_analyzer(name):\n",
    "\n",
    "    sid = SentimentIntensityAnalyzer()    \n",
    "\n",
    "    return sid.polarity_scores(name)"
   ]
  },
  {
   "cell_type": "code",
   "execution_count": 252,
   "id": "58158346",
   "metadata": {},
   "outputs": [],
   "source": [
    "def sw_name_analyzer(name):\n",
    "    \n",
    "    name = ts.google(name)\n",
    "\n",
    "    sid = SentimentIntensityAnalyzer()    \n",
    "\n",
    "    return sid.polarity_scores(name)"
   ]
  },
  {
   "cell_type": "code",
   "execution_count": 253,
   "id": "ab7d6743",
   "metadata": {},
   "outputs": [],
   "source": [
    "    #dis=[]\n",
    "    #sid = SentimentIntensityAnalyzer()\n",
    "    \n",
    "    #    for x, elem in enumerate(name):\n",
    "    #         print(ts.google(elem))\n",
    "\n",
    "    \n",
    "    #if isinstance(name, list):\n",
    "    #    dis.append([[sid.polarity_scores(x)] for x in name])\n",
    "    #    return dis\n",
    "                \n",
    "    #else:\n",
    "    #    return sid.polarity_scores(name)"
   ]
  },
  {
   "cell_type": "markdown",
   "id": "31d31171",
   "metadata": {},
   "source": [
    "Having defined such functions we can perform an analysis on our own dataset.\n",
    "\n",
    "The code below is complex, but I will annotate it to the best of my ability.\n",
    " \n",
    " comments are denoted with '#' marks."
   ]
  },
  {
   "cell_type": "code",
   "execution_count": 254,
   "id": "1dafd82c",
   "metadata": {},
   "outputs": [
    {
     "data": {
      "text/markdown": [
       "| Local Name | Score* | Location | Translation | Real Name |\n",
       "| ---------: | -----: | -------: | ----------: | --------: |\n",
       "| Abombo | 0.0 -Rb | Kisanagani | 0.0 -_ | 0.0 -Dupont |\n",
       "| Adami | 0.0 -Adami | Opala  | 0.0 -Madam | 0.0 -generic |\n",
       "| Adamisu | -0.1531 -Yasuda Miss | Basoko | -0.5719 -Knowing eyes, control, anger | 0.0 -_ |\n",
       "| Aduyi | 0.0 -Coat | _ | 0.0 -Lion | 0.0 -_ |\n",
       "| Aginu | 0.0 -Agus | Kisangani | 0.0 -Kneeling | 0.0 -Genot |\n",
       "| Agomiriya | 0.0 -Will wait | Moto | -0.5574 -Abuser of women; Unfaithful husband | 0.0 -generic |\n",
       "| Alali na se | 0.0 -He sleeps below | Equateur | -0.5267 -He who is lying down | 0.0 -_ |\n",
       "| Alinga Mama | 0.3612 -She is like a mother | Aruwimi  | 0.5719 -He who loves mother;  | 0.0 -generic |\n",
       "| Alinga Likaya | 0.5719 -He loves tobacco | _ | 0.0 -Drunken smoker | 0.0 -_ |\n",
       "| Alinga Tumba | 0.3612 -He is like a tun | _ | 0.296 -Fight Lover  | 0.0 -_ |\n",
       "| Alube | 0.0 -Has not been | Kasai | 0.0 -King Albert | 0.0 -King Albert |\n",
       "| Angbalima | 0.0 -Angbalima | Basoko | -0.5267 -Terror | 0.0 -_ |\n",
       "| Angbotalikume | 0.0 -Angbotalicume | Baskoko | 0.0 -_ | 0.0 -_ |\n",
       "| Angwadima | 0.0 -Ugmin | Eastern Congo | -0.5267 -Terror | 0.0 -_ |\n",
       "| Asali Monkanda | 0.0 -He made a letter | Kisangani | 0.0 -He has written a letter  | 0.0 -D'Hondt |\n",
       "| Atama-Atama | 0.0 -Assignment-atma | Opala | 0.0 -Enslavers | 0.0 -any whites |\n",
       "| Atamu | 0.0 -Adam | Opala | 0.0 -Madam | 0.0 -generic |\n",
       "| Ataso | 0.0 -Atta | everywhere | 0.0 -Attention | 0.0 -generic |\n",
       "| Atila Okondo | 0.0 -Attila Okondo | Opala | 0.0 -He who does not let any land lie fallow | 0.0 -any crop supervisor |\n",
       "| Awaya-Awaya | 0.0 -Ashaya | Kasai  | -0.3182 -Lack of direction  | 0.0 -generic |\n",
       "| Bajunu | 0.0 -Bajun | Kisangani  | 0.0 -Kneeling | 0.0 -generic |\n",
       "| Bakola | 0.0 -They work | Inongo  | 0.0 -Generation | 0.0 -Cloetens et al. |\n",
       "| Bala-Bala | 0.0 -Bala-Bala | everywhere any | 0.0 -Main road; Officials on the move | 0.0 -itinerate agent |\n",
       "| Balikpe | 0.0 -Balikpe | Uele  | 0.0 -Leaves eater  | 0.0 -G. Schweinfurth |\n",
       "| Balikuhe | 0.0 -Bali Kuhehe | Uele  | 0.0 -He was eating raw, bland food  | 0.0 -G. Miani |\n",
       "| Bambenga | -0.25 -They are stuck | Equateur | 0.0 -Red pepper  | 0.0 -_ |\n",
       "| Bana Muanama | 0.0 -Bani Muanama | Kisangani  | 0.1779 -Water spirit  | 0.0 -Wouters |\n",
       "| Bandungu | 0.0 -Bandungu | Lac Leopold II  | 0.0 -Pepper | 0.0 -P.-J. Van de Moere |\n",
       "| Bapenda Kula | 0.0 -Bapenda Kula | Ituri  | 0.6369 -They who love to eat  | 0.0 -generic |\n",
       "| Basikoti | 0.0 -Basic | everywhere | 0.0 -Much whipping; Hippopotamus-hide whip | 0.0 -generic |\n",
       "| Batu Pamba | 0.0 -The Buet on the | Uele  | 0.0 -Straw men | 0.0 -generic |\n",
       "| Belei | 0.0 -Confess | Bumba  | 0.5859 -Lover of women  | 0.0 -generic |\n",
       "| Bikengakenga | 0.0 -Bikely | Katanga | 0.0 -_ | 0.0 -_ |\n",
       "| Bola-Bola | 0.0 -Was-colored | Equateur | 0.0 -Beat, bear; ruthless beater | 0.0 -_ |\n",
       "| Bolemba | 0.0 -Bankbar | Équateur, Opala | -0.6597 -Stupefying vine for killing fish | 0.0 -_ |\n",
       "| Bombeki | 0.0 -Bombeki | Equateur | 0.0 -_ | 0.0 -H. Bombeeck |\n",
       "| Bosolo | 0.0 -Bosolo | Equateur | 0.0 -_ | 0.0 -_ |\n",
       "| Bula Matari | 0.0 -Right castle | _ | 0.0 -Break rocks | 0.0 -any agent |\n",
       "| Bula Matende | 0.0 -Bula therapy | Vivi, Basoko | -0.296 -Dynamiter; Break rocks | 0.0 -Van Kerkhoven |\n",
       "| Bumba | 0.0 -Ball | Kisangani | 0.0 -Who comes from bumba | 0.0 -Luthy |\n",
       "| Bwana Kapia | 0.0 -Bwana Kiapia | Katanga  | 0.0 -Second-born of twins  | 0.0 -Delvaux |\n",
       "| Bwana Kaseya | 0.0 -Bwana Kaseya | Kasongo  | 0.0 -_ | 0.0 -Verditch |\n",
       "| Bwana Kenengene | 0.0 -Sir | Katanga | 0.0 -_ | 0.0 -_ |\n",
       "| Bwana Kidogo | 0.0 -Lord a little | Eastern Congo | 0.0 -Mister small; Little boss  | 0.0 -_ |\n",
       "| Bwana Kioseni | 0.0 -Mr. Kioseni | _ | 0.0 -_ | 0.0 -_ |\n",
       "| Bwana Kitoko | 0.0 -Bwana Kaitoko | everywhere  | 0.4939 -Mister handsome  | 0.0 -King Baudouin |\n",
       "| Bwana Leke | 0.0 -Bwana Leke | Kasai | 0.0 -Mister Leke | 0.0 -Legat |\n",
       "| Bwana Lubuku | 0.0 -Mr. Lubuku | Kasongo | 0.0 -Master builder;  | 0.0 -Van Malderen |\n",
       "| Bwana Lutshina | 0.0 -Bybya jump | Katanga | 0.0 -_ | 0.0 -_ |\n",
       "| Bwana Maibwe | 0.0 -Sossa | Katanga  | 0.0 -Mister stone | 0.0 -_ |\n",
       "| Bwana Mukubwa | 0.0 -Lord | Eastern Congo | 0.5423 -Big boss; Superior; Mister tall  | 0.0 -_ |\n",
       "| Bwana Mzuri | 0.4404 -Good sir | Katanga | 0.4939 -Mister handsome  | 0.0 -_ |\n",
       "| Bwana Ndeke  | 0.0 -Boss Down | Kilo | 0.0 -Mister bird  | 0.0 -Henry |\n",
       "| Bwana Ndeke | 0.0 -Boss Down | Kisangani | 0.0 -Mister bird  | 0.0 -L. Oswald, L. Adhémar, C. de Leuze |\n",
       "| Bwana Nioka  | 0.0 -Bwana Snake | Katanga | 0.0 -Mister snake | 0.0 -Gilson |\n",
       "| Bwana Nzige | 0.0 -Lord locust | _ | 0.0 -Mister locust  | -0.5994 -any violent agent |\n",
       "| Bwana Pangabisoto  | 0.0 -Making Make | Katanga | 0.0 -_ | 0.0 -_ |\n",
       "| Bwana Tomasi | 0.0 -Mr Thomas | Katanga | 0.0 -Mister Thomas  | 0.0 -_ |\n",
       "| Bwana Tumbaku | 0.0 -Lord Tobacco | Kisangani | 0.0 -_ | 0.0 -T.Nicolas |\n",
       "| Chakundia | 0.0 -Chakandia | Katanga | 0.0 -He who can eat me  | 0.0 -_ |\n",
       "| Chicotte | 0.0 -CHICOTTE | Baringa | 0.0 -Whipping  | 0.0 -G. Dineur |\n",
       "| Cibalabala | 0.0 -Cibalabala | Kasai  | 0.0 -Wild cat | 0.0 -F. Van Nimmen, J. Van Uden |\n",
       "| Cibutama | 0.0 -Ci is not fucking | Kasai | -0.1779 -To hide small scar  | 0.0 -R. Bearts |\n",
       "| Cimpanga | 0.0 -Cimpanga | Kasai  | 0.0 -Bull | 0.0 -A. Demunster |\n",
       "| Ciswa-bantu | 0.0 -Cishes-help | Kasai  | 0.5719 -He who loves people | 0.0 -A. Lippens |\n",
       "| Citoko | 0.0 -Citoko | Kasai | 0.4939 -Handsome  | 0.0 -_ |\n",
       "| Djeke | 0.0 -Djoy | Katanga | 0.0 -_ | 0.0 -_ |\n",
       "| Djoko deli | 0.0 -Djoko Deli | Kasai | 0.0 -_+ | 0.0 -_ |\n",
       "| Ebeniq | 0.0 -Benia | Katanga | 0.0 -_ | 0.0 -_ |\n",
       "| Ebuka-Buka | 0.0 -Looking-out | Ekonda, Équateur | 0.0 -Breaker of things, into pieces | 0.0 -_ |\n",
       "| Efanja | 0.0 -Font | Ekonda, Équateur | 0.0 -He who disperses people  | 0.0 -_ |\n",
       "| Ekanda | 0.0 -As you're | Bolobo | 0.0 -_ | 0.0 -Grenfell |\n",
       "| Ekanga-kanga | 0.0 -Cursten | Équateur | -0.4404 -He who arrests people arbitrarily AND indiscriminately | 0.0 -_ |\n",
       "| Ekatankoi | 0.0 -Hens | Tomba | 0.0 -_ | 0.0 -Steinbeck |\n",
       "| Ekuma | 0.0 -To grow | nan | -0.5574 -He who destroys things  | 0.0 -Équateur |\n",
       "| Eminimbi | 0.3182 -I'm sure | Uele  | -0.5267 -Emin, the wicked | 0.0 -E. Schnitzer (Emin Pacha) |\n",
       "| Engalala | 0.0 -Blouse | Lac Leopold II | 0.0 -Palm leaf | 0.0 -Lemaire |\n",
       "| Etumba Mbilo | -0.3818 -Fight Mbilo | nan | -0.3818 -Office that resemblesa battlefield | 0.0 -_ |\n",
       "| Ewa-Olefe | 0.0 -Ewa-Olefe | Yanonge  | 0.0 -Womanizer  | 0.0 -generic |\n",
       "| Fasa ou Nkosa Nkosa | 0.0 -Fasa th Gosa Gosa | Inongo | 0.0 -_ | 0.0 -_ |\n",
       "| Fazzari | 0.0 -Fazzari | Basoko, Mbesa | 0.0 -_ | 0.0 -_ |\n",
       "| Fimbo Mingi | 0.0 -A lot of rods | Kasongo | 0.0 -Much whipping; Hippopotamus-hide whip | 0.0 -Baron Dhanis |\n",
       "| Genda genda | 0.0 -Genda Genda | _ | 0.0 -_ | 0.0 -_ |\n",
       "| Guruguru | 0.0 -round and round | Uele | 0.0 -Pierced ear lobes  | 0.0 -Ibrahim |\n",
       "| Hela | 0.0 -Hela | Isangi  | 0.0 -onomatopoea | 0.0 -Harens |\n",
       "| Hoy na Gola | -0.296 -Either no | Kisangani | 0.0 -_ | 0.0 -Butticaz |\n",
       "| Iboko | 0.0 -Trunk | Tomba | 0.0 -_ | 0.0 -Lieventhal |\n",
       "| Ikeleso | 0.0 -Watch | _ | 0.0 -_ | 0.0 -_ |\n",
       "| Ikoka | 0.0 -It is | _ | 0.0 -He who shoots people | 0.0 -_ |\n",
       "| Ikuka | 0.0 -Shall we go | _ | -0.4215 -Bitter shrub | 0.0 -_ |\n",
       "| Ilanga | 0.0 -Sun | Equateur | 0.0 -Enmity  | 0.0 -_ |\n",
       "| Ipanga Ngunda | 0.0 -Will make the hind | Congo Free State | -0.5574 -He who destroys Upper Congo the country | 0.0 -_ |\n",
       "| Ipipola | 0.0 -Pile | Opala | 0.0 -Copulation | 0.0 -_ |\n",
       "| Itumba Mbilu | 0.0 -It is the heart | Tomba | 0.0 -War-like office | 0.0 -_ |\n",
       "| Kabalo | 0.0 -know | Kasai | 0.0 -Horse | 0.0 -Gillian |\n",
       "| Kabangu | 0.0 -KABANGU | Kasai | -0.5994 -Small scar; device of torture | 0.0 -L. De Brandt |\n",
       "| Kabesa Babo | 0.0 -Kabesa babo | Lulubourg | 0.0 -_ | 0.0 -Wissman |\n",
       "| Kabuakiatunge | 0.0 -Kability | Maniema | 0.0 -Whipping  | 0.0 -_ |\n",
       "| Kakese | 0.0 -Kakes | Katanga | 0.0 -small, junior | 0.0 -_ |\n",
       "| Kamuziki | 0.0 -Music | Lac Leopold II | 0.0 -Little music | 0.0 -A.J.G. Bolle |\n",
       "| Kangipipe | 0.0 -Kangipipe | Katanga | 0.0 -_ | 0.0 -_ |\n",
       "| Kapiteni | 0.0 -Captain | Province Orientale | 0.0 -Captain | 0.0 -generic |\n",
       "| Kaputi | 0.0 -Coats | Inongo | 0.0 -_ | 0.0 -J. de Dixmude |\n",
       "| Kaseya | 0.0 -Casea | Katanga | 0.0 -_ | 0.0 -_ |\n",
       "| Kashabala | 0.0 -Glossy | Kasai | 0.0 -_ | 0.0 -Gasper |\n",
       "| Kasiama Nkoi | 0.0 -Kasama Guy | _ | 0.0 -_ | 0.0 -_ |\n",
       "| Kasongo Bushila | 0.0 -Kasongo Bushila | Kasai | 0.0 -Tall and lean | 0.0 -Bugschlag |\n",
       "| Kasongo Mule | 0.0 -Kasongo Ie | Kasai | 0.0 -Tall and lean | 0.0 -Gillian |\n",
       "| Kelekeke | 0.0 -Kelekeke | Katanga | 0.0 -_ | 0.0 -_ |\n",
       "| Kelelo | 0.0 -Fish | Lac Leopold II | 0.0 -Bugle | 0.0 -A.J.G. Bolle |\n",
       "| Kilupula | 0.0 -Kilupu | Katanga | 0.0 -_ | 0.0 -_ |\n",
       "| Kimbwi | 0.0 -Kimfwi | Katanga | 0.0 -_ | 0.0 -_ |\n",
       "| Kiomba Musinga | 0.0 -Kiroba you won't | Katanga | 0.0 -_ | 0.0 -_ |\n",
       "| Kitatshindja | 0.0 -Kitty | Kasongo | -0.296 -He who cuts people in pieces | 0.0 -Moltedo |\n",
       "| Kitoko | 0.0 -Wooden floor | everywhere | 0.8957 -Handsome; Beautiful; Delicious taste | 0.4939 -handsome agent |\n",
       "| Kituanga | 0.0 -Repeat | Kisangi | 0.0 -He who smashes people; Grinder | 0.0 -Five Jean |\n",
       "| Kobinda | 0.0 -Cop | _ | 0.0 -_ | 0.0 -Sergers |\n",
       "| Koja | 0.0 -Which | Uele | 0.0 -_ | 0.0 -G. Junker |\n",
       "| Kolongo | 0.0 -KONGO | Kisangani | 0.0 -_ | 0.0 -Lauwers Atay |\n",
       "| Koma-Koma | 0.0 -Commercial | Equateur | 0.0 -He who can strangle me | 0.0 -_ |\n",
       "| Komanda | 0.0 -A team | _ | 0.0 -Commander | 0.0 -generic |\n",
       "| Konga | 0.0 -Mong | Katanga | 0.0 -_ | 0.0 -Crawford |\n",
       "| Kulu-Kulu | 0.0 -Expense | Katanga | -0.7964 -Violence trigger; troublemaker | 0.0 -_ |\n",
       "| Kuta Bongo | 0.0 -Brainstorms | Basoko Purnode | 0.0 -_ | 0.0 -_ |\n",
       "| Lambo | 0.0 -Lambo | Katanga | 0.0 -_ | 0.0 -_ |\n",
       "| Lamu | 0.0 -Lamu | Katanga | 0.0 -_ | 0.0 -_ |\n",
       "| Liamamba | 0.0 -Heal | Ekonda, Opala | 0.0 -Millipede | 0.0 -_ |\n",
       "| Liboma | 0.0 -Tie | Équateur | -0.5423 -He who kills | 0.0 -_ |\n",
       "| Libumbu | 0.0 -Gym | Lefevre | 0.4767 -Elegance | 0.0 -_ |\n",
       "| Libumu | 0.0 -lib u mother | Province Orientale | 0.0 -Belly | 0.0 -_ |\n",
       "| Likoka | 0.0 -Lots | Tumba | 0.0 -Shooter | 0.0 -_ |\n",
       "| Likoke | 0.0 -Letcha & Luke | Ekonda | -0.2263 -Prickly tree | 0.0 -_ |\n",
       "| Likwama | 0.0 -Likwama | Mampoko | 0.0 -_ | 0.0 -M. Spelier |\n",
       "| Lilanga-atumbe | 0.0 -The day is a Tumbi | Equateur | 0.0 -Garden destructor | 0.0 -_ |\n",
       "| Limende | 0.0 -lime n | Yahisuli | 0.0 -_ | 0.0 -_ |\n",
       "| Liombo | 0.0 -Limbo | Opala | 0.0 -Broom; Flywhisk | 0.0 -Wautier |\n",
       "| Lipumbu | 0.0 -Prelimal | Province Orientale | 0.4767 -Elegant | 0.0 -_ |\n",
       "| Lokesa | 0.0 -Lossa | Basoko | 0.0 -_ | 0.0 -Dekeyzer |\n",
       "| Lokonga | 0.4939 -To save | Ekonda, Opala | 0.0 -venomous snake | 0.0 -_ |\n",
       "| Lombolembo | 0.0 -Throat | Kisangani | 0.0 -_ | 0.0 -Jamsin |\n",
       "| Longo-Longo | 0.0 -Long-erect | Kilo, Moto | 0.0 -tall-tall | 0.0 -_ |\n",
       "| Longwango | 0.0 -LORE | Lac Leopold II | 0.0 -_ | 0.0 -G.O. Scioz |\n",
       "| Longwani | -0.4767 -Fake | Katanga | 0.0 -_ | 0.0 -_ |\n",
       "| Loponge | 0.0 -Loponge | Basoko | 0.0 -onomatopoea | 0.0 -P. Ponthier |\n",
       "| Luanda | 0.0 -Luanda | Kazembe | 0.0 -Predatory trade | 0.0 -M. Caetano Pereira |\n",
       "| Lubuku | 0.0 -Lie | Kasongo | 0.0 -Builder | 0.0 -Van Malderen |\n",
       "| Lukwako | 0.0 -The giant | Zimba | 0.0 -Go back where you came from | 0.0 -_ |\n",
       "| Lumandemulu | 0.0 -Lumandle | Lac Leopold II | 0.2023 -Fine collector | 0.0 -P.J. Van de Moere |\n",
       "| Madami | 0.0 -a lot | Opala | 0.0 -Madam | 0.0 -generic |\n",
       "| Mafuta | 0.0 -Oil | Katanga | 0.0 -fat | 0.0 -_ |\n",
       "| Mafuta Mingi | 0.0 -Most fat | Mbesa, Beugamisa, Kilo | 0.0 -A lot of fat | 0.0 -Bell, M. Polis |\n",
       "| Maine mingi | 0.0 -Reputation | Basoko | 0.0 -A lot of fat | 0.0 -_ |\n",
       "| Maina | 0.0 -Maina | _ | 0.0 -Fat | 0.0 -_ |\n",
       "| Makasi | -0.1027 -Hard | Aruwimi | 0.5106 -Force, power, strong  | 0.0 -_ |\n",
       "| Makisi | 0.0 -Candals | Katanga | 0.0 -_ | 0.0 -_ |\n",
       "| Makpatu | 0.0 -Makpatu | Basoko | 0.0 -Chaser of women | 0.0 -_ |\n",
       "| Makupkup | 0.0 -Makupkup | Kuba | 0.0 -Of the old village | 0.0 -_ |\n",
       "| Malakolo | 0.0 -Soft | Zimba | 0.0 -_ | 0.0 -_ |\n",
       "| Mala-Mala | 0.0 -Mala-mala | Kasai | 0.0 -Main roads; Officials on the moove | 0.0 -_ |\n",
       "| Malanda | 0.0 -Followers | Uele | 0.0 -Follower | 0.0 -Van Hende |\n",
       "| Malenge | 0.0 -Pumpkin | Ubangi | 0.0 -_ | 0.0 -_ |\n",
       "| Malonga Longa | 0.3612 -The tips like | Katanga | 0.0 -_ | 0.0 -_ |\n",
       "| Malu-Malu | -0.25 -Shy | Lac Leopold II | 0.0 -Rush, rush | 0.0 -_ |\n",
       "| Mandevu Mingi | 0.0 -Mindovu Mungi | Province Orientale | 0.0 -Beard | 0.0 -_ |\n",
       "| Mangbe | 0.0 -Mangbe | Buta | 0.0 -Lightning; Scrapers of the heaps; White cannibals | 0.0 -_ |\n",
       "| Mangema | 0.0 -Let | Zimba | 0.0 -_ | 0.0 -_ |\n",
       "| Matala-Tala | 0.0 -Open-story | Buta | 0.0 -Mirror, eyeglasses, scrutiny; Witchcraft | 0.0 -_ |\n",
       "| Matamba-Tamba | 0.0 -Cats-play | Opala | 0.0 -Enslavers | 0.0 -any agent |\n",
       "| Matcho Kali | 0.0 -Match Cala | Opala | -0.5106 -Angry eyes; Harshness | 0.0 -_ |\n",
       "| Matuba | 0.0 -Matuba | Territoire des cataractes | 0.0 -Words | 0.0 -_ |\n",
       "| Mayala | 0.0 -Mayala | Territoire des cataractes | 0.0 -Oppressor | 0.0 -_ |\n",
       "| Mbavu Munene | 0.0 -A thick rib | everywhere | 0.0 -Big chest | 0.0 -_ |\n",
       "| Mbavu Nguvu | 0.5106 -Ribs strong | everywhere | 0.5106 -Strong chest | 0.0 -_ |\n",
       "| Mfumu Mantese | 0.0 -King Manuse | nan | 0.0 -Prince who has things to say  | 0.0 -A. De Meulemeester |\n",
       "| Miere-Miere | 0.0 -Honey-miece | Kazembe  | -0.1027 -Many knives; Ferocious and wild warrior | 0.0 -Mayo-Monteiro |\n",
       "| Miso Minei | 0.0 -Miso Minei | Aruwimi | 0.0 -Leopard's eyes; Theif | 0.0 -_ |\n",
       "| Miti | 0.0 -Trees | Kasongo | 0.0 -Trees | 0.0 -Middage |\n",
       "| Moke | 0.0 -Moke | Aruwimi | 0.0 -Small, short | 0.0 -generic |\n",
       "| Moke-Moke | 0.0 -Flour-moke | Uele-Itimbiri | 0.0 -Small, small; verry small | 0.0 -Verstracten |\n",
       "| Molanda | 0.0 -Molanda | Uele | 0.0 -Follower | 0.0 -Hinde |\n",
       "| Mondele Madami | 0.0 -Monother Madami | nan | 0.0 -Man who is always with is wife | 0.0 -Bandundu, Bulungu |\n",
       "| Mondele Mboka | 0.0 -White country country | Aruwimi | 0.0 -Village white man; Native son; Head of the post | 0.0 -_ |\n",
       "| Mondele na Kawa | 0.0 -The white man and kawa | Province Orientale | 0.0 -White man of coffee | 0.0 -generic |\n",
       "| Mondele na Loso | 0.0 -The white man and the rice | Province Orientale | 0.0 -White man of rice | 0.0 -generic |\n",
       "| Mondele na Mbila | 0.0 -The white man and the coconut | Province Orientale | 0.0 -White man of palm oil tree | 0.0 -generic |\n",
       "| Mondele Ngolo | 0.0 -Meondo wagon | Bas Congo | 0.5106 -Strong white man | 0.0 -_ |\n",
       "| Monganga na Mabele | 0.0 -doctor on the ground | Province Orientale | 0.0 -Earth healer; Mine prospector | 0.0 -_ |\n",
       "| Monginda(Bonginda) | 0.0 -Monginda (Bonginda) | Tomba  | 0.0 -_ | 0.0 -Durieux |\n",
       "| Mpimbo Mingi | 0.0 -There are so many whips | Equateur | 0.0 -Much whipping; hippopotamus-hide whip | 0.0 -_ |\n",
       "| Msirkanda | 0.0 -Msirkanda | Province Orientale | 0.0 -_ | 0.0 -De Meulemeester |\n",
       "| Mudiata ou Nyata | 0.0 -Mudiaata Ou is real | Katanga | 0.0 -_ | 0.0 -Thiry |\n",
       "| Mukalenge Leka | 0.2732 -If you create paren | _ | 0.0 -Prince Leka | 0.0 -Legat |\n",
       "| Mundele Kikufi | -0.6486 -Following the Dead | Territoire des cararactes | 0.0 -Short white man | 0.0 -_ |\n",
       "| Mundele Mbisi | 0.0 -Too Lesson | Bas Congo | 0.0 -_ | 0.0 -_ |\n",
       "| Mundele Ngolo | 0.0 -Wagon | Bas Congo | 0.5106 -Strong white man | 0.0 -_ |\n",
       "| Mundele Nioka | 0.0 -Midwele naika | Bas Congo | 0.3612 -White man who is like a snake | 0.0 -_ |\n",
       "| Mundele Nzazi | 0.0 -Follow me | Bas Congo | 0.0 -_ | 0.0 -_ |\n",
       "| Munyololo | 0.0 -Munyololo | Eastern congo | 0.0 -Chain, rope | 0.0 -_ |\n",
       "| Mupe | 0.0 -Give it | Eastern Congo | 0.0 -Priest | 0.0 -generic |\n",
       "| Mupenda Batu | 0.0 -Off the Bunguage | Irumu, Ituri, Eastern Congo | 0.5719 -He who loves people | 0.0 -generic |\n",
       "| Mupenda Kula | 0.0 -You can track a scan | Yanonge | 0.4215 -He who likes to eat | 0.0 -_ |\n",
       "| Muzungu wa Pamba | 0.0 -Cotton white | Kongolo | 0.0 -White man of cotton | 0.0 -_ |\n",
       "| Mwambe | 0.0 -Eight | Basoko | 0.0 -Eight; Eight lashes | 0.0 -_ |\n",
       "| Mwana Mputu | 0.0 -Baby | Equateur | 0.0 -Child of Europe | 0.0 -H. Bombeeck  |\n",
       "| Mwandami | 0.0 -MAN | _ | 0.0 -Madam | 0.0 -generic |\n",
       "| Mwendo-Mwendo | 0.0 -Leg-leg | Kazembe | 0.0 -Travel; travel; Voyage at the foot of the world  | 0.0 -M. Caetano Pereira |\n",
       "| Nabira | 0.0 -Accumulate | Uele | 0.0 -_ | 0.0 -G. Miani |\n",
       "| Nafranki | 0.0 -Franki | Uele | 0.0 -He has white beard and long hair | 0.0 -G. Miani |\n",
       "| Ndeke, Ndeke-Ndeke | 0.0 -Cleen, laugh-laugh | _ | 0.0 -Bird; Officials on the move | 0.0 -generic |\n",
       "| Ndevu | 0.0 -Beard | Eastern Congo | 0.0 -Bearded white man | 0.0 -_ |\n",
       "| Ndjole-Ndjole | 0.0 -Ndjole-Ndjole | Ekonda | 0.0 -Bearded white man | 0.0 -_ |\n",
       "| Ndoki | -0.3612 -Witch | Kasongo | -0.3612 -Witch | 0.0 -Elter |\n",
       "| Ngangabuka | 0.0 -I didn't look at | Kasai | 0.0 -Priest; God’s healer | 0.0 -_ |\n",
       "| Nganga Nzambe | 0.0 -MANY ADACTION | Equateur, Province Orientale | 0.0 -Priest; God’s healer | 0.0 -_ |\n",
       "| Ngolo Mingi | 0.0 -With those rounds | Bas Congo  | 0.0 -Much Power | 0.0 -_ |\n",
       "| Ngona na batu | 0.4215 -Lol the rock | Equateur, Province Orientale | 0.0 -Nightly talking slit gong | 0.0 -_ |\n",
       "| Ngongo Leteta | 0.0 -Ngongo Leteta | Eastern Congo | -0.5423 -Bad Official | 0.0 -generic |\n",
       "| Nialakowomubu | 0.0 -Leaves | Lac Leopold II | 0.0 -_ | 0.0 -J.M.F. Tumers |\n",
       "| Niangeniange | 0.0 -Ni Anniang, eh |  Kisangani  | 0.0 -_ | 0.0 -G. Geerearts |\n",
       "| Nkake | 0.0 -Lightning | White Province Orientale, Équateur | 0.0 -Lightning; White cannibals   | 0.0 -_ |\n",
       "| Nkangobeko | 0.0 -Hobby | Inongo | 0.0 -_ | 0.0 -Cloetens |\n",
       "| Nkoso | 0.0 -The korom | _ | 0.0 -Parrot | 0.0 -_ |\n",
       "| Nkoyi(Nkoi) | 0.0 -Nko Y doctor (Nukoy) | Lac Leopold II | 0.0 -Leopard | 0.0 -H. Dupuis Shaw |\n",
       "| Nsoni Mingi | 0.0 -Very many | _ | -0.5413 -Very Shameful | 0.0 -J. Fievez |\n",
       "| Ntange | 0.0 -Ntange | Lac Leopold II | 0.0 -Bed | 0.0 -_ |\n",
       "| Nyimi-Nyimi | 0.0 -NEWS-SPECIAL | Kasai | -0.3182 -Red ant; lack of civilization | 0.0 -_ |\n",
       "| Nyoka | 0.0 -Snake | Katanga | -0.4404 -Snake; Resentment | 0.0 -Wilson |\n",
       "| Nzoku | 0.0 -Elephant | _ | 0.0 -Elephant | 0.0 -_ |\n",
       "| Nzokumasi | 0.0 -Khosi | Bas Congo  | 0.0 -_ | 0.0 -_ |\n",
       "| Ondele W'Ekonge | 0.0 -That is awaiting w'eyo | Opala | 0.0 -White men of urena lobata  | 0.0 -_ |\n",
       "| Padiri | 0.0 -Padiri | Eastern Congo  | 0.0 -Priest | 0.0 -_ |\n",
       "| Paipo | 0.0 -Paipo | Kilo, Moto | 0.0 -Pipe | 0.0 -_ |\n",
       "| Pamba | 0.0 -Garnish | Lac Leopold II | 0.0 -_ | 0.0 -J. Fievez |\n",
       "| Panzi | 0.0 -Grasshopper | Tomba | -0.5267 -Lying side | 0.0 -J. Fievez |\n",
       "| Pebe | 0.0 -Pebe | Tomba | 0.0 -_ | 0.0 -Clark |\n",
       "| Pete ya Mai ya Sombe | 0.0 -The Main | Province Orientale | 0.0 -Green stars; cassava leaves color | 0.0 -_ |\n",
       "| Pole-Pole | 0.0 -Field-pole | Eastern Congo | 0.024 -Very calm; slow walker; lazy walker | 0.0 -generic |\n",
       "| Rumaliza | 0.0 -RETURN | Eastern Congo | -0.4588 -Destroyer | 0.0 -_ |\n",
       "| Sango | 0.0 -Sango | Eastern Congo, Equator | 0.0 -Father | 0.0 -_ |\n",
       "| Sato | 0.0 -Sato | _ | 0.0 -_ | 0.0 -G. Casati |\n",
       "| Sesa | 0.0 -than | Basoko | 0.0 -_ | 0.0 -Chaltin |\n",
       "| Sikitele | 0.0 -sikitetele | Bandundu, Equator Province Orientale | 0.0 -Secretary | 0.0 -generic |\n",
       "| Sikoti | 0.0 -Tail | _ | 0.0 -Much whipping; hippopotamus-hide whip | 0.0 -generic |\n",
       "| Simba Bulaya | 0.0 -Lion Bulaya | Katanga, Eastern Congo | 0.0 -Europe's lion | 0.0 -_ |\n",
       "| Singa | 0.0 -Element | Basoko | 0.0 -_ | 0.0 -Van Wert |\n",
       "| Situka | 0.0 -We are stung | Kisangani | 0.0 -_ | 0.0 -Foerch |\n",
       "| Sokele(Lokele) | 0.0 -Sole (Loke) | Lac Leopold II | 0.0 -_ | 0.0 -L. A. Borms |\n",
       "| Soso Aleli | 0.0 -SOSO CRYS | Province Orientale | 0.0 -Rooster has crowed | 0.0 -_ |\n",
       "| Soso Mombi | 0.0 -Soso Mombi | Chez Gobila | 0.0 -White feathered chicken | 0.0 -Janssen |\n",
       "| Soso Mpembe | 0.0 -Mouse Mpombe | Lac Leopold II | 0.0 -White feathered chicken | 0.0 -Janssen |\n",
       "| Sukuma | 0.0 -Imagine | Nyangwe | 0.0 -Push | 0.0 -Losange |\n",
       "| Tange | 0.0 -Tange | Equateur | 0.0 -Bed | 0.0 -J. Fievez |\n",
       "| Tata | 0.0 -Tata | Equateur | 0.0 -Father | 0.0 -J. Fievez |\n",
       "| Tomansangu | 0.0 -Toman -san | Bas Congo  | 0.0 -Send news; News maker | 0.0 -_ |\n",
       "| Tomilali | 0.0 -Tomila | Opala | 0.0 -Court | 0.0 -_ |\n",
       "| Tomo | 0.0 -Tomo | Katanga | 0.0 -_ | 0.0 -_ |\n",
       "| Toro | 0.0 -Visit | Basoko | 0.0 -_ | 0.0 -Lund |\n",
       "| Tshienda Bitekete | 0.0 -Tshienda Bikekete | Kasai | -0.3612 -Lazy Walker | 0.0 -_ |\n",
       "| Tshiwayawaya | 0.0 -T -wrinkles and Japanese | Kasai | 0.0 -Balance in breeze | 0.0 -_ |\n",
       "| Tshoma-Tshoma | 0.0 -Tshoma-Tshoma | Aruwimi | 0.0 -He who burns people | 0.0 -C. Van de Laniotte |\n",
       "| Tshombe Bululu | 0.0 -Shortly | Kasai | -0.4215 -Bitter cassava leaves | 0.0 -Gillian |\n",
       "| Tuku-Tuku | 0.0 -Send-offers | Kongolo | 0.0 -Motorcycle | 0.0 -generic |\n",
       "| Tuku-Tuku | 0.0 -Send-offers | Kisangani | 0.0 -Motorcycle | 0.0 -V. Rue |\n",
       "| Tumbaku | 0.0 -Tobacco | Kisangani | 0.0 -Tobacco, sticky mouth and stained teeth | 0.0 -N. Tobback |\n",
       "| Tumba Lombe | 0.0 -Touch the locust | Equateur | 0.0 -Home Burner | 0.0 -_ |\n",
       "| Tumpa Mokono | 0.0 -Tump it | Moto | 0.4939 -Throw hand | 0.0 -_ |\n",
       "| Vandebunduki | 0.0 -Vandebunduki | Lac Leopold II | 0.0 -Vande, the gunman | 0.0 -L. Van den Brooke |\n",
       "| Vandenbuluki | 0.0 -Vandenbuluki | Lac Leopold II | -0.3612 -Vande, the witch | 0.0 -L. Van den Brooke |\n",
       "| Vansina | 0.0 -Vansina | _ | 0.0 -Sit down | 0.0 -J. Vansina |\n",
       "| Wai-Wai | 0.0 -Wai-Wai | Kamina | -0.4588 -Big troublemaker | 0.0 -generic |\n",
       "| Yamba-Yamba | 0.0 -Shant | Kasongo | 0.0 -Defecate, defecate | 0.0 -Bosoni |\n"
      ],
      "text/plain": [
       "<IPython.core.display.Markdown object>"
      ]
     },
     "metadata": {},
     "output_type": "display_data"
    }
   ],
   "source": [
    "headers = ['Local Name', 'Score*', 'Location', 'Translation', 'Real Name']\n",
    "# This line denotes the first line of output data, our heading\n",
    "\n",
    "rows = [[names_1[num], str(str(sw_name_analyzer(names)['compound']) + \" -\" + new_translations[num]), location[num], \n",
    "         str( str(en_name_analyzer(trnl)['compound']) + \" -\" + transl[num]), \n",
    "         str( str(en_name_analyzer(name_2)['compound']) + \" -\" + names_2[num])] \n",
    "        for num, (names, name_2, trnl) in enumerate(zip(names_1, names_2, transl))]\n",
    "\n",
    "# This section of code defines the rows that will be generated.\n",
    "# It relies on various other functions and lists define above, but this is the most critical section.\n",
    "\n",
    "# 1st line - local names, their computed translations w/ scores, and location lists\n",
    "# 2nd line - Translation list\n",
    "# 3rd line - Real names / origin list\n",
    "# last line - for #, (variables) in enumerate(three different lists) [This line iterates over all the other to construct the table.]\n",
    "\n",
    "\n",
    "show_markdown_table(headers, rows)\n",
    "# This function combines the two lines above to compile output"
   ]
  },
  {
   "cell_type": "markdown",
   "id": "feac1178",
   "metadata": {},
   "source": [
    "Now that we have performed the necessary evaluation of our names, lets save our data to a csv for easy of access."
   ]
  },
  {
   "cell_type": "code",
   "execution_count": 256,
   "id": "d14db94c",
   "metadata": {},
   "outputs": [],
   "source": [
    "data_2.columns = ['Local Name', 'Produced Translation', 'Location', 'Translation', 'Real Name']\n",
    "\n",
    "data_2 = pd.DataFrame(rows)\n",
    "\n",
    "data_2.to_csv(r'Sample of names & scores.csv', header=False, index=False)"
   ]
  },
  {
   "cell_type": "markdown",
   "id": "4d317b9a",
   "metadata": {},
   "source": [
    "This file has been saved to this repository.\n",
    "\n",
    "## Conclusion\n",
    "\n",
    "In this file we have used the [Vader](https://towardsdatascience.com/sentimental-analysis-using-vader-a3415fef7664) library to perform Sentiment Analysis on a list of roughly 270 names. Vader does not allow for the performance of multilingual Sentiment analysis. It was necessary to use another library [translate-api](https://pypi.org/project/translate-api/#getting-started)\n",
    "What this means is that inputs from other languages are translated to english in order to calculate a sentiment score. I tried looking for a Natural Language Processing database in Swahili, Kikongo, & Lingala. But resources in computer science are sparse in these langauges. This certainly affects the output of this program, and is reflected in the csv file, where The official translations and their scores are shown alongside the translations and scores I produced.\n",
    "\n",
    "For the reasons above, the words with translated sentiment should be weighted less in the consideration of the word's lasting impact today."
   ]
  },
  {
   "cell_type": "code",
   "execution_count": null,
   "id": "49808259",
   "metadata": {},
   "outputs": [],
   "source": []
  }
 ],
 "metadata": {
  "kernelspec": {
   "display_name": "myenv",
   "language": "python",
   "name": "myenv"
  },
  "language_info": {
   "codemirror_mode": {
    "name": "ipython",
    "version": 3
   },
   "file_extension": ".py",
   "mimetype": "text/x-python",
   "name": "python",
   "nbconvert_exporter": "python",
   "pygments_lexer": "ipython3",
   "version": "3.9.12"
  }
 },
 "nbformat": 4,
 "nbformat_minor": 5
}
