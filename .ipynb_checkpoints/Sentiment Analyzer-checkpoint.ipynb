{
 "cells": [
  {
   "cell_type": "code",
   "execution_count": 121,
   "id": "432a9a2c",
   "metadata": {},
   "outputs": [],
   "source": [
    "%matplotlib inline\n",
    "import pandas as pd\n",
    "from nltk import sentiment\n",
    "from IPython.display import display, Markdown\n",
    "from nltk.sentiment.vader import SentimentIntensityAnalyzer\n",
    "from nltk import tokenize\n",
    "from typing import *"
   ]
  },
  {
   "cell_type": "code",
   "execution_count": 122,
   "id": "00a93863",
   "metadata": {},
   "outputs": [
    {
     "name": "stderr",
     "output_type": "stream",
     "text": [
      "[nltk_data] Downloading package vader_lexicon to C:\\Users\\Kaden's\n",
      "[nltk_data]     Laptop\\AppData\\Roaming\\nltk_data...\n",
      "[nltk_data]   Package vader_lexicon is already up-to-date!\n"
     ]
    },
    {
     "data": {
      "text/plain": [
       "True"
      ]
     },
     "execution_count": 122,
     "metadata": {},
     "output_type": "execute_result"
    }
   ],
   "source": [
    "import nltk\n",
    "nltk.download('vader_lexicon')"
   ]
  },
  {
   "cell_type": "markdown",
   "id": "2d06a641",
   "metadata": {},
   "source": [
    "# Sentiment_Analyzer\n",
    "\n",
    "#### BOTH OTHER FILES STORED IN THIS REPOSITORY WERE USED AS REFERENCE FOR THIS FILES CREATION"
   ]
  },
  {
   "cell_type": "markdown",
   "id": "933a3723",
   "metadata": {},
   "source": [
    "We begin by importing the data file and looking at a portion of our data"
   ]
  },
  {
   "cell_type": "code",
   "execution_count": 123,
   "id": "215a8ba2",
   "metadata": {},
   "outputs": [
    {
     "name": "stdout",
     "output_type": "stream",
     "text": [
      "  Local Names                   Translation    Location Real Names\n",
      "0      Abombo                            _   Kisanagani     Dupont\n",
      "1       Adami                        Madam       Opala     generic\n",
      "2     Adamisu  Knowing eyes, control, anger      Basoko          _\n",
      "3       Aduyi                          Lion           _          _\n",
      "4       Aginu                      Kneeling   Kisangani      Genot\n"
     ]
    },
    {
     "data": {
      "text/html": [
       "<div>\n",
       "<style scoped>\n",
       "    .dataframe tbody tr th:only-of-type {\n",
       "        vertical-align: middle;\n",
       "    }\n",
       "\n",
       "    .dataframe tbody tr th {\n",
       "        vertical-align: top;\n",
       "    }\n",
       "\n",
       "    .dataframe thead th {\n",
       "        text-align: right;\n",
       "    }\n",
       "</style>\n",
       "<table border=\"1\" class=\"dataframe\">\n",
       "  <thead>\n",
       "    <tr style=\"text-align: right;\">\n",
       "      <th></th>\n",
       "      <th>Local Names</th>\n",
       "      <th>Translation</th>\n",
       "      <th>Location</th>\n",
       "      <th>Real Names</th>\n",
       "    </tr>\n",
       "  </thead>\n",
       "  <tbody>\n",
       "    <tr>\n",
       "      <th>count</th>\n",
       "      <td>271</td>\n",
       "      <td>270</td>\n",
       "      <td>267</td>\n",
       "      <td>264</td>\n",
       "    </tr>\n",
       "    <tr>\n",
       "      <th>unique</th>\n",
       "      <td>270</td>\n",
       "      <td>188</td>\n",
       "      <td>91</td>\n",
       "      <td>100</td>\n",
       "    </tr>\n",
       "    <tr>\n",
       "      <th>top</th>\n",
       "      <td>Tuku-Tuku</td>\n",
       "      <td>_</td>\n",
       "      <td>Katanga</td>\n",
       "      <td>_</td>\n",
       "    </tr>\n",
       "    <tr>\n",
       "      <th>freq</th>\n",
       "      <td>2</td>\n",
       "      <td>65</td>\n",
       "      <td>26</td>\n",
       "      <td>123</td>\n",
       "    </tr>\n",
       "  </tbody>\n",
       "</table>\n",
       "</div>"
      ],
      "text/plain": [
       "       Local Names Translation Location Real Names\n",
       "count          271         270      267        264\n",
       "unique         270         188       91        100\n",
       "top      Tuku-Tuku           _  Katanga          _\n",
       "freq             2          65       26        123"
      ]
     },
     "execution_count": 123,
     "metadata": {},
     "output_type": "execute_result"
    }
   ],
   "source": [
    "data = pd.read_csv(r\"C:\\Users\\Kaden's Laptop\\Documents\\GitHub\\KadenFranklin.github.io\\sentiment_analyzer\\names1.csv\")\n",
    "print(data.head())\n",
    "data.describe()"
   ]
  },
  {
   "cell_type": "markdown",
   "id": "71aef221",
   "metadata": {},
   "source": [
    "The data gathered for this analyis is collected from King Leopold's Congo and the \"Scramble for Africa\" by Michael A. Rutz\n",
    "\n",
    "Specifically from page 163 and the 'Sample of names used in this word'.\n",
    "\n",
    "We can see from the commands above that there are 271 rows of names, with 270 unique names, 188 distinct translations, originating from 91 locations. In addition to this, asside from collective 'meta' names there are 99 names given to colonials by natives.\n",
    "\n",
    "The datatypes are as follows:"
   ]
  },
  {
   "cell_type": "code",
   "execution_count": 124,
   "id": "12829754",
   "metadata": {},
   "outputs": [
    {
     "data": {
      "text/plain": [
       "Local Names    object\n",
       "Translation    object\n",
       "Location       object\n",
       "Real Names     object\n",
       "dtype: object"
      ]
     },
     "execution_count": 124,
     "metadata": {},
     "output_type": "execute_result"
    }
   ],
   "source": [
    "data.dtypes"
   ]
  },
  {
   "cell_type": "markdown",
   "id": "6e903a75",
   "metadata": {},
   "source": [
    "Local Name - Object\n",
    "\n",
    "Translation - Object\n",
    "\n",
    "Location - Object\t\n",
    "\n",
    "Real Name - Object\n",
    "\n",
    "Now just to be certain we will check the dataset for duplicates."
   ]
  },
  {
   "cell_type": "code",
   "execution_count": 125,
   "id": "fb07f7df",
   "metadata": {},
   "outputs": [],
   "source": [
    "i = -1\n",
    "for x in data.duplicated():\n",
    "    i += 1\n",
    "    if x == True:\n",
    "        print(x)\n",
    "        print(i)"
   ]
  },
  {
   "cell_type": "markdown",
   "id": "bbfbfe78",
   "metadata": {},
   "source": [
    "Success, no duplicates, Now we move on to the interesting part, [sentiment analysis](https://monkeylearn.com/sentiment-analysis/).\n",
    "\n",
    "Now we can split our data into its corresponding columns so that we can work with it more easily.\n"
   ]
  },
  {
   "cell_type": "code",
   "execution_count": 126,
   "id": "8597b611",
   "metadata": {},
   "outputs": [],
   "source": [
    "names_1 = list(data[\"Local Names\"])\n",
    "transl = list(data[\"Translation\"])\n",
    "location = list(data[\"Location\"])\n",
    "names_2 = list(data['Real Names'])"
   ]
  },
  {
   "cell_type": "markdown",
   "id": "dbb2130d",
   "metadata": {},
   "source": [
    "The function below defines the [markdown](https://www.markdownguide.org/) table, which the results of our analysis will be stored.\n",
    "\n",
    "As you can see there are also some helper function I've created to help iterate through data."
   ]
  },
  {
   "cell_type": "code",
   "execution_count": 127,
   "id": "62a74b4c",
   "metadata": {},
   "outputs": [],
   "source": [
    "def show_markdown_table(headers: List[str], data: List) -> str:\n",
    "    s = f\"| {' | '.join(headers)} |\\n| {' | '.join([(max(1, len(header) - 1)) * '-' + ':' for header in headers])} |\\n\"\n",
    "    for row in data:\n",
    "        s += f\"| {' | '.join([str(item) for item in row])} |\\n\"\n",
    "    display(Markdown(s))"
   ]
  },
  {
   "cell_type": "markdown",
   "id": "fe9d8a0d",
   "metadata": {},
   "source": [
    "The function below takes in an input of either one name, or a list of names. It will return a resulting markdown table giving the scores of such input names."
   ]
  },
  {
   "cell_type": "code",
   "execution_count": 128,
   "id": "aa9063d3",
   "metadata": {},
   "outputs": [],
   "source": [
    "def en_name_analyzer(name):\n",
    "\n",
    "    sid = SentimentIntensityAnalyzer()    \n",
    "\n",
    "    return sid.polarity_scores(name)"
   ]
  },
  {
   "cell_type": "code",
   "execution_count": 129,
   "id": "a139afe9",
   "metadata": {},
   "outputs": [],
   "source": [
    "def sw_name_analyzer(name):\n",
    "\n",
    "    sid = SentimentIntensityAnalyzer()    \n",
    "\n",
    "    return sid.polarity_scores(name)\n",
    "\n",
    "    #dis=[]\n",
    "    #sid = SentimentIntensityAnalyzer()\n",
    "    \n",
    "    #if isinstance(name, list):\n",
    "    #    dis.append([[sid.polarity_scores(x)] for x in name])\n",
    "    #    return dis\n",
    "                \n",
    "    #else:\n",
    "    #    return sid.polarity_scores(name)"
   ]
  },
  {
   "cell_type": "markdown",
   "id": "ebd23cc3",
   "metadata": {},
   "source": [
    "Having defined such functions we can perform an analysis on our own dataset."
   ]
  },
  {
   "cell_type": "code",
   "execution_count": 132,
   "id": "50700bcd",
   "metadata": {},
   "outputs": [
    {
     "data": {
      "text/markdown": [
       "| local name | score | location |\n",
       "| ---------: | ----: | -------: |\n",
       "| Abombo | {'neg': 0.0, 'neu': 1.0, 'pos': 0.0, 'compound': 0.0} | Kisanagani |\n",
       "| Adami | {'neg': 0.0, 'neu': 1.0, 'pos': 0.0, 'compound': 0.0} | Opala  |\n",
       "| Adamisu | {'neg': 0.0, 'neu': 1.0, 'pos': 0.0, 'compound': 0.0} | Basoko |\n",
       "| Aduyi | {'neg': 0.0, 'neu': 1.0, 'pos': 0.0, 'compound': 0.0} | _ |\n",
       "| Aginu | {'neg': 0.0, 'neu': 1.0, 'pos': 0.0, 'compound': 0.0} | Kisangani |\n",
       "| Agomiriya | {'neg': 0.0, 'neu': 1.0, 'pos': 0.0, 'compound': 0.0} | Moto |\n",
       "| Alali na se | {'neg': 0.0, 'neu': 1.0, 'pos': 0.0, 'compound': 0.0} | Equateur |\n",
       "| Alinga Mama | {'neg': 0.0, 'neu': 1.0, 'pos': 0.0, 'compound': 0.0} | Aruwimi  |\n",
       "| Alinga Likaya | {'neg': 0.0, 'neu': 1.0, 'pos': 0.0, 'compound': 0.0} | _ |\n",
       "| Alinga Tumba | {'neg': 0.0, 'neu': 1.0, 'pos': 0.0, 'compound': 0.0} | _ |\n",
       "| Alube | {'neg': 0.0, 'neu': 1.0, 'pos': 0.0, 'compound': 0.0} | Kasai |\n",
       "| Angbalima | {'neg': 0.0, 'neu': 1.0, 'pos': 0.0, 'compound': 0.0} | Basoko |\n",
       "| Angbotalikume | {'neg': 0.0, 'neu': 1.0, 'pos': 0.0, 'compound': 0.0} | Baskoko |\n",
       "| Angwadima | {'neg': 0.0, 'neu': 1.0, 'pos': 0.0, 'compound': 0.0} | Eastern Congo |\n",
       "| Asali Monkanda | {'neg': 0.0, 'neu': 1.0, 'pos': 0.0, 'compound': 0.0} | Kisangani |\n",
       "| Atama-Atama | {'neg': 0.0, 'neu': 1.0, 'pos': 0.0, 'compound': 0.0} | Opala |\n",
       "| Atamu | {'neg': 0.0, 'neu': 1.0, 'pos': 0.0, 'compound': 0.0} | Opala |\n",
       "| Ataso | {'neg': 0.0, 'neu': 1.0, 'pos': 0.0, 'compound': 0.0} | everywhere |\n",
       "| Atila Okondo | {'neg': 0.0, 'neu': 1.0, 'pos': 0.0, 'compound': 0.0} | Opala |\n",
       "| Awaya-Awaya | {'neg': 0.0, 'neu': 1.0, 'pos': 0.0, 'compound': 0.0} | Kasai  |\n",
       "| Bajunu | {'neg': 0.0, 'neu': 1.0, 'pos': 0.0, 'compound': 0.0} |  Kisangani  |\n",
       "| Bakola | {'neg': 0.0, 'neu': 1.0, 'pos': 0.0, 'compound': 0.0} | Inongo  |\n",
       "| Bala-Bala | {'neg': 0.0, 'neu': 1.0, 'pos': 0.0, 'compound': 0.0} | everywhere any |\n",
       "| Balikpe | {'neg': 0.0, 'neu': 1.0, 'pos': 0.0, 'compound': 0.0} | Uele  |\n",
       "| Balikuhe | {'neg': 0.0, 'neu': 1.0, 'pos': 0.0, 'compound': 0.0} | Uele  |\n",
       "| Bambenga | {'neg': 0.0, 'neu': 1.0, 'pos': 0.0, 'compound': 0.0} | Equateur |\n",
       "| Bana Muanama | {'neg': 0.0, 'neu': 1.0, 'pos': 0.0, 'compound': 0.0} | Kisangani  |\n",
       "| Bandungu | {'neg': 0.0, 'neu': 1.0, 'pos': 0.0, 'compound': 0.0} | Lac Leopold II  |\n",
       "| Bapenda Kula | {'neg': 0.0, 'neu': 1.0, 'pos': 0.0, 'compound': 0.0} | Ituri  |\n",
       "| Basikoti | {'neg': 0.0, 'neu': 1.0, 'pos': 0.0, 'compound': 0.0} | everywhere |\n",
       "| Batu Pamba | {'neg': 0.0, 'neu': 1.0, 'pos': 0.0, 'compound': 0.0} | Uele  |\n",
       "| Belei | {'neg': 0.0, 'neu': 1.0, 'pos': 0.0, 'compound': 0.0} | Bumba  |\n",
       "| Bikengakenga | {'neg': 0.0, 'neu': 1.0, 'pos': 0.0, 'compound': 0.0} | Katanga |\n",
       "| Bola-Bola | {'neg': 0.0, 'neu': 1.0, 'pos': 0.0, 'compound': 0.0} | Equateur |\n",
       "| Bolemba | {'neg': 0.0, 'neu': 1.0, 'pos': 0.0, 'compound': 0.0} | Équateur, Opala |\n",
       "| Bombeki | {'neg': 0.0, 'neu': 1.0, 'pos': 0.0, 'compound': 0.0} | Equateur |\n",
       "| Bosolo | {'neg': 0.0, 'neu': 1.0, 'pos': 0.0, 'compound': 0.0} | Equateur |\n",
       "| Bula Matari | {'neg': 0.0, 'neu': 1.0, 'pos': 0.0, 'compound': 0.0} | _ |\n",
       "| Bula Matende | {'neg': 0.0, 'neu': 1.0, 'pos': 0.0, 'compound': 0.0} | Vivi, Basoko |\n",
       "| Bumba | {'neg': 0.0, 'neu': 1.0, 'pos': 0.0, 'compound': 0.0} | Kisangani |\n",
       "| Bwana Kapia | {'neg': 0.0, 'neu': 1.0, 'pos': 0.0, 'compound': 0.0} | Katanga  |\n",
       "| Bwana Kaseya | {'neg': 0.0, 'neu': 1.0, 'pos': 0.0, 'compound': 0.0} | Kasongo  |\n",
       "| Bwana Kenengene | {'neg': 0.0, 'neu': 1.0, 'pos': 0.0, 'compound': 0.0} | Katanga |\n",
       "| Bwana Kidogo | {'neg': 0.0, 'neu': 1.0, 'pos': 0.0, 'compound': 0.0} | Eastern Congo |\n",
       "| Bwana Kioseni | {'neg': 0.0, 'neu': 1.0, 'pos': 0.0, 'compound': 0.0} | _ |\n",
       "| Bwana Kitoko | {'neg': 0.0, 'neu': 1.0, 'pos': 0.0, 'compound': 0.0} | everywhere  |\n",
       "| Bwana Leke | {'neg': 0.0, 'neu': 1.0, 'pos': 0.0, 'compound': 0.0} | Kasai |\n",
       "| Bwana Lubuku | {'neg': 0.0, 'neu': 1.0, 'pos': 0.0, 'compound': 0.0} | Kasongo |\n",
       "| Bwana Lutshina | {'neg': 0.0, 'neu': 1.0, 'pos': 0.0, 'compound': 0.0} | Katanga |\n",
       "| Bwana Maibwe | {'neg': 0.0, 'neu': 1.0, 'pos': 0.0, 'compound': 0.0} |  Katanga  |\n",
       "| Bwana Mukubwa | {'neg': 0.0, 'neu': 1.0, 'pos': 0.0, 'compound': 0.0} | Eastern Congo |\n",
       "| Bwana Mzuri | {'neg': 0.0, 'neu': 1.0, 'pos': 0.0, 'compound': 0.0} | Katanga |\n",
       "| Bwana Ndeke  | {'neg': 0.0, 'neu': 1.0, 'pos': 0.0, 'compound': 0.0} | Kilo  |\n",
       "| Bwana Ndeke | {'neg': 0.0, 'neu': 1.0, 'pos': 0.0, 'compound': 0.0} | Kisangani |\n",
       "| Bwana Nioka  | {'neg': 0.0, 'neu': 1.0, 'pos': 0.0, 'compound': 0.0} |  Katanga |\n",
       "| Bwana Nzige | {'neg': 0.0, 'neu': 1.0, 'pos': 0.0, 'compound': 0.0} | _ |\n",
       "| Bwana Pangabisoto  | {'neg': 0.0, 'neu': 1.0, 'pos': 0.0, 'compound': 0.0} | Katanga |\n",
       "| Bwana Tomasi | {'neg': 0.0, 'neu': 1.0, 'pos': 0.0, 'compound': 0.0} | Katanga |\n",
       "| Bwana Tumbaku  | {'neg': 0.0, 'neu': 1.0, 'pos': 0.0, 'compound': 0.0} | Kisangani |\n",
       "| Chakundia  | {'neg': 0.0, 'neu': 1.0, 'pos': 0.0, 'compound': 0.0} | Katanga |\n",
       "| Chicotte | {'neg': 0.0, 'neu': 1.0, 'pos': 0.0, 'compound': 0.0} | Baringa  |\n",
       "| Cibalabala | {'neg': 0.0, 'neu': 1.0, 'pos': 0.0, 'compound': 0.0} | Kasai  |\n",
       "| Cibutama | {'neg': 0.0, 'neu': 1.0, 'pos': 0.0, 'compound': 0.0} | Kasai |\n",
       "| Cimpanga  | {'neg': 0.0, 'neu': 1.0, 'pos': 0.0, 'compound': 0.0} | Kasai  |\n",
       "| Ciswa-bantu | {'neg': 0.0, 'neu': 1.0, 'pos': 0.0, 'compound': 0.0} | Kasai  |\n",
       "| Citoko | {'neg': 0.0, 'neu': 1.0, 'pos': 0.0, 'compound': 0.0} | Kasai |\n",
       "| Djeke | {'neg': 0.0, 'neu': 1.0, 'pos': 0.0, 'compound': 0.0} | Katanga |\n",
       "| Djoko deli | {'neg': 0.0, 'neu': 1.0, 'pos': 0.0, 'compound': 0.0} | Kasai |\n",
       "| Ebeniq | {'neg': 0.0, 'neu': 1.0, 'pos': 0.0, 'compound': 0.0} |  Katanga |\n",
       "| Ebuka-Buka | {'neg': 0.0, 'neu': 1.0, 'pos': 0.0, 'compound': 0.0} |  Ekonda, Équateur |\n",
       "| Efanja  | {'neg': 0.0, 'neu': 1.0, 'pos': 0.0, 'compound': 0.0} | Ekonda, Équateur |\n",
       "| Ekanda  | {'neg': 0.0, 'neu': 1.0, 'pos': 0.0, 'compound': 0.0} | Bolobo |\n",
       "| Ekanga-kanga  | {'neg': 0.0, 'neu': 1.0, 'pos': 0.0, 'compound': 0.0} | Équateur |\n",
       "| Ekatankoi  | {'neg': 0.0, 'neu': 1.0, 'pos': 0.0, 'compound': 0.0} | Tomba |\n",
       "| Ekuma  | {'neg': 0.0, 'neu': 1.0, 'pos': 0.0, 'compound': 0.0} | nan |\n",
       "| Eminimbi  | {'neg': 0.0, 'neu': 1.0, 'pos': 0.0, 'compound': 0.0} |  Uele  |\n",
       "| Engalala | {'neg': 0.0, 'neu': 1.0, 'pos': 0.0, 'compound': 0.0} |  Lac Leopold II |\n",
       "| Etumba Mbilo | {'neg': 0.0, 'neu': 1.0, 'pos': 0.0, 'compound': 0.0} | nan |\n",
       "| Ewa-Olefe | {'neg': 0.0, 'neu': 1.0, 'pos': 0.0, 'compound': 0.0} | Yanonge  |\n",
       "| Fasa ou Nkosa Nkosa | {'neg': 0.0, 'neu': 1.0, 'pos': 0.0, 'compound': 0.0} | Inongo |\n",
       "| Fazzari  | {'neg': 0.0, 'neu': 1.0, 'pos': 0.0, 'compound': 0.0} | Basoko, Mbesa |\n",
       "| Fimbo Mingi | {'neg': 0.0, 'neu': 1.0, 'pos': 0.0, 'compound': 0.0} | Kasongo |\n",
       "| Genda genda | {'neg': 0.0, 'neu': 1.0, 'pos': 0.0, 'compound': 0.0} | _ |\n",
       "| Guruguru | {'neg': 0.0, 'neu': 1.0, 'pos': 0.0, 'compound': 0.0} | Uele |\n",
       "| Hela  | {'neg': 0.0, 'neu': 1.0, 'pos': 0.0, 'compound': 0.0} |  Isangi  |\n",
       "| Hoy na Gola | {'neg': 0.0, 'neu': 1.0, 'pos': 0.0, 'compound': 0.0} |  Kisangani |\n",
       "| Iboko | {'neg': 0.0, 'neu': 1.0, 'pos': 0.0, 'compound': 0.0} |  Tomba |\n",
       "| Ikeleso | {'neg': 0.0, 'neu': 1.0, 'pos': 0.0, 'compound': 0.0} | _ |\n",
       "| Ikoka | {'neg': 0.0, 'neu': 1.0, 'pos': 0.0, 'compound': 0.0} | _ |\n",
       "| Ikuka | {'neg': 0.0, 'neu': 1.0, 'pos': 0.0, 'compound': 0.0} | _ |\n",
       "| Ilanga | {'neg': 0.0, 'neu': 1.0, 'pos': 0.0, 'compound': 0.0} | Equateur |\n",
       "| Ipanga Ngunda | {'neg': 0.0, 'neu': 1.0, 'pos': 0.0, 'compound': 0.0} | Congo Free State |\n",
       "| Ipipola | {'neg': 0.0, 'neu': 1.0, 'pos': 0.0, 'compound': 0.0} | Opala |\n",
       "| Itumba Mbilu | {'neg': 0.0, 'neu': 1.0, 'pos': 0.0, 'compound': 0.0} | Tomba  |\n",
       "| Kabalo | {'neg': 0.0, 'neu': 1.0, 'pos': 0.0, 'compound': 0.0} | Kasai |\n",
       "| Kabangu | {'neg': 0.0, 'neu': 1.0, 'pos': 0.0, 'compound': 0.0} | Kasai |\n",
       "| Kabesa Babo | {'neg': 0.0, 'neu': 1.0, 'pos': 0.0, 'compound': 0.0} | Lulubourg |\n",
       "| Kabuakiatunge | {'neg': 0.0, 'neu': 1.0, 'pos': 0.0, 'compound': 0.0} | Maniema |\n",
       "| Kakese | {'neg': 0.0, 'neu': 1.0, 'pos': 0.0, 'compound': 0.0} | Katanga |\n",
       "| Kamuziki | {'neg': 0.0, 'neu': 1.0, 'pos': 0.0, 'compound': 0.0} | Lac Leopold II |\n",
       "| Kangipipe | {'neg': 0.0, 'neu': 1.0, 'pos': 0.0, 'compound': 0.0} | Katanga |\n",
       "| Kapiteni | {'neg': 0.0, 'neu': 1.0, 'pos': 0.0, 'compound': 0.0} | Province Orientale |\n",
       "| Kaputi | {'neg': 0.0, 'neu': 1.0, 'pos': 0.0, 'compound': 0.0} | Inongo |\n",
       "| Kaseya | {'neg': 0.0, 'neu': 1.0, 'pos': 0.0, 'compound': 0.0} | Katanga |\n",
       "| Kashabala | {'neg': 0.0, 'neu': 1.0, 'pos': 0.0, 'compound': 0.0} | Kasai |\n",
       "| Kasiama Nkoi | {'neg': 0.0, 'neu': 1.0, 'pos': 0.0, 'compound': 0.0} | _ |\n",
       "| Kasongo Bushila | {'neg': 0.0, 'neu': 1.0, 'pos': 0.0, 'compound': 0.0} | Kasai |\n",
       "| Kasongo Mule | {'neg': 0.0, 'neu': 1.0, 'pos': 0.0, 'compound': 0.0} | Kasai |\n",
       "| Kelekeke | {'neg': 0.0, 'neu': 1.0, 'pos': 0.0, 'compound': 0.0} | Katanga |\n",
       "| Kelelo | {'neg': 0.0, 'neu': 1.0, 'pos': 0.0, 'compound': 0.0} | Lac Leopold II |\n",
       "| Kilupula | {'neg': 0.0, 'neu': 1.0, 'pos': 0.0, 'compound': 0.0} | Katanga |\n",
       "| Kimbwi | {'neg': 0.0, 'neu': 1.0, 'pos': 0.0, 'compound': 0.0} | Katanga |\n",
       "| Kiomba Musinga | {'neg': 0.0, 'neu': 1.0, 'pos': 0.0, 'compound': 0.0} | Katanga |\n",
       "| Kitatshindja | {'neg': 0.0, 'neu': 1.0, 'pos': 0.0, 'compound': 0.0} | Kasongo |\n",
       "| Kitoko | {'neg': 0.0, 'neu': 1.0, 'pos': 0.0, 'compound': 0.0} | everywhere |\n",
       "| Kituanga | {'neg': 0.0, 'neu': 1.0, 'pos': 0.0, 'compound': 0.0} | Kisangi |\n",
       "| Kobinda | {'neg': 0.0, 'neu': 1.0, 'pos': 0.0, 'compound': 0.0} | _ |\n",
       "| Koja | {'neg': 0.0, 'neu': 1.0, 'pos': 0.0, 'compound': 0.0} | Uele |\n",
       "| Kolongo | {'neg': 0.0, 'neu': 1.0, 'pos': 0.0, 'compound': 0.0} | Kisangani |\n",
       "| Koma-Koma | {'neg': 0.0, 'neu': 1.0, 'pos': 0.0, 'compound': 0.0} | Equateur |\n",
       "| Komanda | {'neg': 0.0, 'neu': 1.0, 'pos': 0.0, 'compound': 0.0} | _ |\n",
       "| Konga | {'neg': 0.0, 'neu': 1.0, 'pos': 0.0, 'compound': 0.0} | Katanga |\n",
       "| Kulu-Kulu | {'neg': 0.0, 'neu': 1.0, 'pos': 0.0, 'compound': 0.0} | Katanga |\n",
       "| Kuta Bongo | {'neg': 0.0, 'neu': 1.0, 'pos': 0.0, 'compound': 0.0} | Basoko Purnode |\n",
       "| Lambo | {'neg': 0.0, 'neu': 1.0, 'pos': 0.0, 'compound': 0.0} | Katanga |\n",
       "| Lamu | {'neg': 0.0, 'neu': 1.0, 'pos': 0.0, 'compound': 0.0} | Katanga |\n",
       "| Liamamba | {'neg': 0.0, 'neu': 1.0, 'pos': 0.0, 'compound': 0.0} | Ekonda, Opala |\n",
       "| Liboma | {'neg': 0.0, 'neu': 1.0, 'pos': 0.0, 'compound': 0.0} | Équateur |\n",
       "| Libumbu | {'neg': 0.0, 'neu': 1.0, 'pos': 0.0, 'compound': 0.0} | Lefevre |\n",
       "| Libumu | {'neg': 0.0, 'neu': 1.0, 'pos': 0.0, 'compound': 0.0} | Province Orientale |\n",
       "| Likoka | {'neg': 0.0, 'neu': 1.0, 'pos': 0.0, 'compound': 0.0} | Tumba |\n",
       "| Likoke | {'neg': 0.0, 'neu': 1.0, 'pos': 0.0, 'compound': 0.0} | Ekonda |\n",
       "| Likwama | {'neg': 0.0, 'neu': 1.0, 'pos': 0.0, 'compound': 0.0} | Mampoko  |\n",
       "| Lilanga-atumbe | {'neg': 0.0, 'neu': 1.0, 'pos': 0.0, 'compound': 0.0} | Equateur |\n",
       "| Limende | {'neg': 0.0, 'neu': 1.0, 'pos': 0.0, 'compound': 0.0} | Yahisuli |\n",
       "| Liombo | {'neg': 0.0, 'neu': 1.0, 'pos': 0.0, 'compound': 0.0} | Opala |\n",
       "| Lipumbu | {'neg': 0.0, 'neu': 1.0, 'pos': 0.0, 'compound': 0.0} | Province Orientale |\n",
       "| Lokesa | {'neg': 0.0, 'neu': 1.0, 'pos': 0.0, 'compound': 0.0} | Basoko |\n",
       "| Lokonga | {'neg': 0.0, 'neu': 1.0, 'pos': 0.0, 'compound': 0.0} | Ekonda, Opala |\n",
       "| Lombolembo | {'neg': 0.0, 'neu': 1.0, 'pos': 0.0, 'compound': 0.0} | Kisangani |\n",
       "| Longo-Longo | {'neg': 0.0, 'neu': 1.0, 'pos': 0.0, 'compound': 0.0} | Kilo, Moto |\n",
       "| Longwango | {'neg': 0.0, 'neu': 1.0, 'pos': 0.0, 'compound': 0.0} | Lac Leopold II |\n",
       "| Longwani | {'neg': 0.0, 'neu': 1.0, 'pos': 0.0, 'compound': 0.0} | Katanga |\n",
       "| Loponge | {'neg': 0.0, 'neu': 1.0, 'pos': 0.0, 'compound': 0.0} | Basoko |\n",
       "| Luanda | {'neg': 0.0, 'neu': 1.0, 'pos': 0.0, 'compound': 0.0} | Kazembe |\n",
       "| Lubuku | {'neg': 0.0, 'neu': 1.0, 'pos': 0.0, 'compound': 0.0} | Kasongo |\n",
       "| Lukwako | {'neg': 0.0, 'neu': 1.0, 'pos': 0.0, 'compound': 0.0} | Zimba |\n",
       "| Lumandemulu | {'neg': 0.0, 'neu': 1.0, 'pos': 0.0, 'compound': 0.0} | Lac Leopold II |\n",
       "| Madami | {'neg': 0.0, 'neu': 1.0, 'pos': 0.0, 'compound': 0.0} | Opala |\n",
       "| Mafuta | {'neg': 0.0, 'neu': 1.0, 'pos': 0.0, 'compound': 0.0} | Katanga |\n",
       "| Mafuta Mingi | {'neg': 0.0, 'neu': 1.0, 'pos': 0.0, 'compound': 0.0} | Mbesa, Beugamisa, Kilo |\n",
       "| Maine mingi | {'neg': 0.0, 'neu': 1.0, 'pos': 0.0, 'compound': 0.0} | Basoko |\n",
       "| Maina | {'neg': 0.0, 'neu': 1.0, 'pos': 0.0, 'compound': 0.0} | _ |\n",
       "| Makasi | {'neg': 0.0, 'neu': 1.0, 'pos': 0.0, 'compound': 0.0} | Aruwimi |\n",
       "| Makisi | {'neg': 0.0, 'neu': 1.0, 'pos': 0.0, 'compound': 0.0} | Katanga |\n",
       "| Makpatu | {'neg': 0.0, 'neu': 1.0, 'pos': 0.0, 'compound': 0.0} | Basoko |\n",
       "| Makupkup | {'neg': 0.0, 'neu': 1.0, 'pos': 0.0, 'compound': 0.0} | Kuba |\n",
       "| Malakolo | {'neg': 0.0, 'neu': 1.0, 'pos': 0.0, 'compound': 0.0} | Zimba |\n",
       "| Mala-Mala | {'neg': 0.0, 'neu': 1.0, 'pos': 0.0, 'compound': 0.0} | Kasai |\n",
       "| Malanda | {'neg': 0.0, 'neu': 1.0, 'pos': 0.0, 'compound': 0.0} | Uele |\n",
       "| Malenge | {'neg': 0.0, 'neu': 1.0, 'pos': 0.0, 'compound': 0.0} | Ubangi |\n",
       "| Malonga Longa | {'neg': 0.0, 'neu': 1.0, 'pos': 0.0, 'compound': 0.0} | Katanga |\n",
       "| Malu-Malu | {'neg': 0.0, 'neu': 1.0, 'pos': 0.0, 'compound': 0.0} | Lac Leopold II |\n",
       "| Mandevu Mingi | {'neg': 0.0, 'neu': 1.0, 'pos': 0.0, 'compound': 0.0} | Province Orientale |\n",
       "| Mangbe  | {'neg': 0.0, 'neu': 1.0, 'pos': 0.0, 'compound': 0.0} |  Buta |\n",
       "| Mangema  | {'neg': 0.0, 'neu': 1.0, 'pos': 0.0, 'compound': 0.0} | Zimba |\n",
       "| Matala-Tala | {'neg': 0.0, 'neu': 1.0, 'pos': 0.0, 'compound': 0.0} |  Buta |\n",
       "| Matamba-Tamba | {'neg': 0.0, 'neu': 1.0, 'pos': 0.0, 'compound': 0.0} |  Opala |\n",
       "| Matcho Kali | {'neg': 0.0, 'neu': 1.0, 'pos': 0.0, 'compound': 0.0} |  Opala |\n",
       "| Matuba | {'neg': 0.0, 'neu': 1.0, 'pos': 0.0, 'compound': 0.0} |  Territoire des cataractes |\n",
       "| Mayala | {'neg': 0.0, 'neu': 1.0, 'pos': 0.0, 'compound': 0.0} |  Territoire des cataractes |\n",
       "| Mbavu Munene | {'neg': 0.0, 'neu': 1.0, 'pos': 0.0, 'compound': 0.0} |  everywhere |\n",
       "| Mbavu Nguvu | {'neg': 0.0, 'neu': 1.0, 'pos': 0.0, 'compound': 0.0} |  everywhere |\n",
       "| Mfumu Mantese | {'neg': 0.0, 'neu': 1.0, 'pos': 0.0, 'compound': 0.0} | nan |\n",
       "| Miere-Miere | {'neg': 0.0, 'neu': 1.0, 'pos': 0.0, 'compound': 0.0} |   Kazembe  |\n",
       "| Miso Minei | {'neg': 0.0, 'neu': 1.0, 'pos': 0.0, 'compound': 0.0} | Aruwimi |\n",
       "| Miti | {'neg': 0.0, 'neu': 1.0, 'pos': 0.0, 'compound': 0.0} | Kasongo |\n",
       "| Moke | {'neg': 0.0, 'neu': 1.0, 'pos': 0.0, 'compound': 0.0} | Aruwimi |\n",
       "| Moke-Moke | {'neg': 0.0, 'neu': 1.0, 'pos': 0.0, 'compound': 0.0} | Uele-Itimbiri |\n",
       "| Molanda | {'neg': 0.0, 'neu': 1.0, 'pos': 0.0, 'compound': 0.0} | Uele |\n",
       "| Mondele Madami | {'neg': 0.0, 'neu': 1.0, 'pos': 0.0, 'compound': 0.0} | nan |\n",
       "| Mondele Mboka | {'neg': 0.0, 'neu': 1.0, 'pos': 0.0, 'compound': 0.0} | Aruwimi |\n",
       "| Mondele na Kawa | {'neg': 0.0, 'neu': 1.0, 'pos': 0.0, 'compound': 0.0} | Province Orientale |\n",
       "| Mondele na Loso | {'neg': 0.0, 'neu': 1.0, 'pos': 0.0, 'compound': 0.0} | Province Orientale |\n",
       "| Mondele na Mbila | {'neg': 0.0, 'neu': 1.0, 'pos': 0.0, 'compound': 0.0} | Province Orientale |\n",
       "| Mondele Ngolo | {'neg': 0.0, 'neu': 1.0, 'pos': 0.0, 'compound': 0.0} | Bas Congo |\n",
       "| Monganga na Mabele | {'neg': 0.0, 'neu': 1.0, 'pos': 0.0, 'compound': 0.0} | Province Orientale |\n",
       "| Monginda(Bonginda) | {'neg': 0.0, 'neu': 1.0, 'pos': 0.0, 'compound': 0.0} | Tomba  |\n",
       "| Mpimbo Mingi | {'neg': 0.0, 'neu': 1.0, 'pos': 0.0, 'compound': 0.0} | Equateur |\n",
       "| Msirkanda | {'neg': 0.0, 'neu': 1.0, 'pos': 0.0, 'compound': 0.0} | Province Orientale |\n",
       "| Mudiata ou Nyata | {'neg': 0.0, 'neu': 1.0, 'pos': 0.0, 'compound': 0.0} | Katanga |\n",
       "| Mukalenge Leka | {'neg': 0.0, 'neu': 1.0, 'pos': 0.0, 'compound': 0.0} | _ |\n",
       "| Mundele Kikufi | {'neg': 0.0, 'neu': 1.0, 'pos': 0.0, 'compound': 0.0} | Territoire des cararactes |\n",
       "| Mundele Mbisi | {'neg': 0.0, 'neu': 1.0, 'pos': 0.0, 'compound': 0.0} | Bas Congo |\n",
       "| Mundele Ngolo | {'neg': 0.0, 'neu': 1.0, 'pos': 0.0, 'compound': 0.0} | Bas Congo |\n",
       "| Mundele Nioka | {'neg': 0.0, 'neu': 1.0, 'pos': 0.0, 'compound': 0.0} | Bas Congo |\n",
       "| Mundele Nzazi | {'neg': 0.0, 'neu': 1.0, 'pos': 0.0, 'compound': 0.0} | Bas Congo |\n",
       "| Munyololo | {'neg': 0.0, 'neu': 1.0, 'pos': 0.0, 'compound': 0.0} | Eastern congo |\n",
       "| Mupe | {'neg': 0.0, 'neu': 1.0, 'pos': 0.0, 'compound': 0.0} | Eastern Congo |\n",
       "| Mupenda Batu | {'neg': 0.0, 'neu': 1.0, 'pos': 0.0, 'compound': 0.0} | Irumu, Ituri, Eastern Congo |\n",
       "| Mupenda Kula | {'neg': 0.0, 'neu': 1.0, 'pos': 0.0, 'compound': 0.0} | Yanonge |\n",
       "| Muzungu wa Pamba | {'neg': 0.0, 'neu': 1.0, 'pos': 0.0, 'compound': 0.0} | Kongolo |\n",
       "| Mwambe  | {'neg': 0.0, 'neu': 1.0, 'pos': 0.0, 'compound': 0.0} | Basoko |\n",
       "| Mwana Mputu | {'neg': 0.0, 'neu': 1.0, 'pos': 0.0, 'compound': 0.0} | Equateur |\n",
       "| Mwandami | {'neg': 0.0, 'neu': 1.0, 'pos': 0.0, 'compound': 0.0} | _ |\n",
       "| Mwendo-Mwendo | {'neg': 0.0, 'neu': 1.0, 'pos': 0.0, 'compound': 0.0} | Kazembe |\n",
       "| Nabira | {'neg': 0.0, 'neu': 1.0, 'pos': 0.0, 'compound': 0.0} | Uele |\n",
       "| Nafranki | {'neg': 0.0, 'neu': 1.0, 'pos': 0.0, 'compound': 0.0} | Uele |\n",
       "| Ndeke, Ndeke-Ndeke | {'neg': 0.0, 'neu': 1.0, 'pos': 0.0, 'compound': 0.0} | _ |\n",
       "| Ndevu | {'neg': 0.0, 'neu': 1.0, 'pos': 0.0, 'compound': 0.0} | Eastern Congo |\n",
       "| Ndjole-Ndjole | {'neg': 0.0, 'neu': 1.0, 'pos': 0.0, 'compound': 0.0} | Ekonda |\n",
       "| Ndoki | {'neg': 0.0, 'neu': 1.0, 'pos': 0.0, 'compound': 0.0} | Kasongo |\n",
       "| Ngangabuka | {'neg': 0.0, 'neu': 1.0, 'pos': 0.0, 'compound': 0.0} | Kasai |\n",
       "| Nganga Nzambe | {'neg': 0.0, 'neu': 1.0, 'pos': 0.0, 'compound': 0.0} | Equateur, Province Orientale |\n",
       "| Ngolo Mingi | {'neg': 0.0, 'neu': 1.0, 'pos': 0.0, 'compound': 0.0} | Bas Congo  |\n",
       "| Ngona na batu | {'neg': 0.0, 'neu': 1.0, 'pos': 0.0, 'compound': 0.0} | Equateur, Province Orientale |\n",
       "| Ngongo Leteta | {'neg': 0.0, 'neu': 1.0, 'pos': 0.0, 'compound': 0.0} | Eastern Congo |\n",
       "| Nialakowomubu | {'neg': 0.0, 'neu': 1.0, 'pos': 0.0, 'compound': 0.0} | Lac Leopold II |\n",
       "| Niangeniange | {'neg': 0.0, 'neu': 1.0, 'pos': 0.0, 'compound': 0.0} | _ |\n",
       "| Nkake  | {'neg': 0.0, 'neu': 1.0, 'pos': 0.0, 'compound': 0.0} | White Province Orientale, Équateur |\n",
       "| Nkangobeko | {'neg': 0.0, 'neu': 1.0, 'pos': 0.0, 'compound': 0.0} | Inongo |\n",
       "| Nkoso | {'neg': 0.0, 'neu': 1.0, 'pos': 0.0, 'compound': 0.0} | _ |\n",
       "| Nkoyi(Nkoi) | {'neg': 0.0, 'neu': 1.0, 'pos': 0.0, 'compound': 0.0} | Lac Leopold II |\n",
       "| Nsoni Mingi | {'neg': 0.0, 'neu': 1.0, 'pos': 0.0, 'compound': 0.0} | _ |\n",
       "| Ntange | {'neg': 0.0, 'neu': 1.0, 'pos': 0.0, 'compound': 0.0} | Lac Leopold II |\n",
       "| Nyimi-Nyimi | {'neg': 0.0, 'neu': 1.0, 'pos': 0.0, 'compound': 0.0} | Kasai |\n",
       "| Nyoka | {'neg': 0.0, 'neu': 1.0, 'pos': 0.0, 'compound': 0.0} | Katanga |\n",
       "| Nzoku | {'neg': 0.0, 'neu': 1.0, 'pos': 0.0, 'compound': 0.0} | _ |\n",
       "| Nzokumasi | {'neg': 0.0, 'neu': 1.0, 'pos': 0.0, 'compound': 0.0} | Bas Congo  |\n",
       "| Ondele W'Ekonge | {'neg': 0.0, 'neu': 1.0, 'pos': 0.0, 'compound': 0.0} |  Opala |\n",
       "| Padiri | {'neg': 0.0, 'neu': 1.0, 'pos': 0.0, 'compound': 0.0} | Eastern Congo  |\n",
       "| Paipo | {'neg': 0.0, 'neu': 1.0, 'pos': 0.0, 'compound': 0.0} | Kilo, Moto |\n",
       "| Pamba | {'neg': 0.0, 'neu': 1.0, 'pos': 0.0, 'compound': 0.0} | Lac Leopold II |\n",
       "| Panzi | {'neg': 0.0, 'neu': 1.0, 'pos': 0.0, 'compound': 0.0} | Tomba  |\n",
       "| Pebe | {'neg': 0.0, 'neu': 1.0, 'pos': 0.0, 'compound': 0.0} |  Tomba  |\n",
       "| Pete ya Mai ya Sombe | {'neg': 0.0, 'neu': 1.0, 'pos': 0.0, 'compound': 0.0} | Province Orientale |\n",
       "| Pole-Pole | {'neg': 0.0, 'neu': 1.0, 'pos': 0.0, 'compound': 0.0} | Eastern Congo |\n",
       "| Rumaliza | {'neg': 0.0, 'neu': 1.0, 'pos': 0.0, 'compound': 0.0} | Eastern Congo |\n",
       "| Sango | {'neg': 0.0, 'neu': 1.0, 'pos': 0.0, 'compound': 0.0} | Eastern Congo, Equator |\n",
       "| Sato | {'neg': 0.0, 'neu': 1.0, 'pos': 0.0, 'compound': 0.0} | _ |\n",
       "| Sesa | {'neg': 0.0, 'neu': 1.0, 'pos': 0.0, 'compound': 0.0} | Basoko |\n",
       "| Sikitele | {'neg': 0.0, 'neu': 1.0, 'pos': 0.0, 'compound': 0.0} | Bandundu, Equator Province Orientale |\n",
       "| Sikoti | {'neg': 0.0, 'neu': 1.0, 'pos': 0.0, 'compound': 0.0} | _ |\n",
       "| Simba Bulaya | {'neg': 0.0, 'neu': 1.0, 'pos': 0.0, 'compound': 0.0} | Katanga, Eastern Congo |\n",
       "| Singa | {'neg': 0.0, 'neu': 1.0, 'pos': 0.0, 'compound': 0.0} | Basoko |\n",
       "| Situka | {'neg': 0.0, 'neu': 1.0, 'pos': 0.0, 'compound': 0.0} | Kisangani |\n",
       "| Sokele(Lokele) | {'neg': 0.0, 'neu': 1.0, 'pos': 0.0, 'compound': 0.0} | Lac Leopold II |\n",
       "| Soso Aleli | {'neg': 0.0, 'neu': 1.0, 'pos': 0.0, 'compound': 0.0} | Province Orientale |\n",
       "| Soso Mombi | {'neg': 0.0, 'neu': 1.0, 'pos': 0.0, 'compound': 0.0} | Chez Gobila |\n",
       "| Soso Mpembe | {'neg': 0.0, 'neu': 1.0, 'pos': 0.0, 'compound': 0.0} | Lac Leopold II |\n",
       "| Sukuma | {'neg': 0.0, 'neu': 1.0, 'pos': 0.0, 'compound': 0.0} | Nyangwe |\n",
       "| Tange | {'neg': 0.0, 'neu': 1.0, 'pos': 0.0, 'compound': 0.0} | Equateur |\n",
       "| Tata | {'neg': 0.0, 'neu': 1.0, 'pos': 0.0, 'compound': 0.0} | Equateur |\n",
       "| Tomansangu | {'neg': 0.0, 'neu': 1.0, 'pos': 0.0, 'compound': 0.0} | Bas Congo  |\n",
       "| Tomilali | {'neg': 0.0, 'neu': 1.0, 'pos': 0.0, 'compound': 0.0} | Opala |\n",
       "| Tomo | {'neg': 0.0, 'neu': 1.0, 'pos': 0.0, 'compound': 0.0} | Katanga |\n",
       "| Toro | {'neg': 0.0, 'neu': 1.0, 'pos': 0.0, 'compound': 0.0} | Basoko |\n",
       "| Tshienda Bitekete | {'neg': 0.0, 'neu': 1.0, 'pos': 0.0, 'compound': 0.0} | Kasai |\n",
       "| Tshiwayawaya | {'neg': 0.0, 'neu': 1.0, 'pos': 0.0, 'compound': 0.0} | Kasai |\n",
       "| Tshoma-Tshoma | {'neg': 0.0, 'neu': 1.0, 'pos': 0.0, 'compound': 0.0} | Aruwimi |\n",
       "| Tshombe Bululu | {'neg': 0.0, 'neu': 1.0, 'pos': 0.0, 'compound': 0.0} | Kasai |\n",
       "| Tuku-Tuku | {'neg': 0.0, 'neu': 1.0, 'pos': 0.0, 'compound': 0.0} | Kongolo |\n",
       "| Tuku-Tuku | {'neg': 0.0, 'neu': 1.0, 'pos': 0.0, 'compound': 0.0} | Kisangani |\n",
       "| Tumbaku | {'neg': 0.0, 'neu': 1.0, 'pos': 0.0, 'compound': 0.0} | Kisangani |\n",
       "| Tumba Lombe | {'neg': 0.0, 'neu': 1.0, 'pos': 0.0, 'compound': 0.0} | Equateur |\n",
       "| Tumpa Mokono | {'neg': 0.0, 'neu': 1.0, 'pos': 0.0, 'compound': 0.0} | Moto |\n",
       "| Vandebunduki | {'neg': 0.0, 'neu': 1.0, 'pos': 0.0, 'compound': 0.0} | Lac Leopold II |\n",
       "| Vandenbuluki | {'neg': 0.0, 'neu': 1.0, 'pos': 0.0, 'compound': 0.0} | Lac Leopold II |\n",
       "| Vansina | {'neg': 0.0, 'neu': 1.0, 'pos': 0.0, 'compound': 0.0} | _ |\n",
       "| Wai-Wai | {'neg': 0.0, 'neu': 1.0, 'pos': 0.0, 'compound': 0.0} | Kamina |\n",
       "| Yamba-Yamba | {'neg': 0.0, 'neu': 1.0, 'pos': 0.0, 'compound': 0.0} | Kasongo |\n"
      ],
      "text/plain": [
       "<IPython.core.display.Markdown object>"
      ]
     },
     "metadata": {},
     "output_type": "display_data"
    }
   ],
   "source": [
    "#en_name_analyzer(transl)\n",
    "#en_name_analyzer(names_2)\n",
    "\n",
    "headers = ['local name', 'score', 'location']\n",
    "rows = [[names_1[num], sw_name_analyzer(names), location[num]] for num, names in enumerate(names_1)]\n",
    "show_markdown_table(headers, rows)\n",
    "\n",
    "# can also do # sw_name_analyzer(names)['compound']\n",
    "# for a better view of score"
   ]
  },
  {
   "cell_type": "markdown",
   "id": "70a2c24a",
   "metadata": {},
   "source": [
    "Now that we have performed the necessary evaluation of our names, lets organize the data."
   ]
  },
  {
   "cell_type": "code",
   "execution_count": 41,
   "id": "d14db94c",
   "metadata": {},
   "outputs": [],
   "source": [
    "# Organize by region here"
   ]
  },
  {
   "cell_type": "markdown",
   "id": "a852a30a",
   "metadata": {},
   "source": [
    "In this file we have used the [Vader](https://towardsdatascience.com/sentimental-analysis-using-vader-a3415fef7664) library to perform Sentiment Analysis on a list of roughly 270 names. Vader allows for the performance of multilingual Sentiment analysis through 3rd party translation APIs. What this means is that inputs from other languages are translated to english in order to calculate a sentiment score. I tried looking for a Natural Language Processing database in Swahili, Kikongo, & Lingala. But resources in computer science are sparse in these langauges.\n",
    "\n",
    "For the reasons above, the words with translated sentiment should be weighted less in the consideration of the word's lasting impact today."
   ]
  },
  {
   "cell_type": "markdown",
   "id": "465ab9f2",
   "metadata": {},
   "source": []
  }
 ],
 "metadata": {
  "kernelspec": {
   "display_name": "Python 3 (ipykernel)",
   "language": "python",
   "name": "python3"
  },
  "language_info": {
   "codemirror_mode": {
    "name": "ipython",
    "version": 3
   },
   "file_extension": ".py",
   "mimetype": "text/x-python",
   "name": "python",
   "nbconvert_exporter": "python",
   "pygments_lexer": "ipython3",
   "version": "3.9.12"
  }
 },
 "nbformat": 4,
 "nbformat_minor": 5
}
