{
 "cells": [
  {
   "cell_type": "code",
   "execution_count": null,
   "id": "28290319",
   "metadata": {
    "scrolled": true
   },
   "outputs": [],
   "source": [
    "import nltk\n",
    "nltk.download('vader_lexicon')"
   ]
  },
  {
   "cell_type": "code",
   "execution_count": null,
   "id": "40358934",
   "metadata": {},
   "outputs": [],
   "source": [
    "# !pip install translate-api\n",
    "# import translators as ts"
   ]
  },
  {
   "cell_type": "code",
   "execution_count": null,
   "id": "855bc12c",
   "metadata": {},
   "outputs": [],
   "source": [
    "import string\n",
    "%matplotlib inline\n",
    "import pandas as pd\n",
    "from nltk import sentiment\n",
    "from IPython.display import display, Markdown\n",
    "from nltk.sentiment.vader import SentimentIntensityAnalyzer\n",
    "from nltk import tokenize\n",
    "from typing import *"
   ]
  },
  {
   "cell_type": "code",
   "execution_count": null,
   "id": "ef241418",
   "metadata": {},
   "outputs": [],
   "source": [
    "\n",
    "!pip install vader-multi"
   ]
  },
  {
   "cell_type": "markdown",
   "id": "2d06a641",
   "metadata": {},
   "source": [
    "# Sentiment_Analyzer\n",
    "\n",
    "#### BOTH OTHER FILES STORED IN THIS REPOSITORY WERE USED AS REFERENCE FOR THIS FILES CREATION"
   ]
  },
  {
   "cell_type": "markdown",
   "id": "29874af3",
   "metadata": {},
   "source": [
    "We begin by importing the data file and looking at a portion of our data"
   ]
  },
  {
   "cell_type": "code",
   "execution_count": null,
   "id": "c406b721",
   "metadata": {
    "scrolled": true
   },
   "outputs": [],
   "source": [
    "data = pd.read_csv(r\"C:\\Users\\Kaden's Laptop\\Documents\\GitHub\\KadenFranklin.github.io\\sentiment_analyzer\\names1.csv\")\n",
    "print(data.head())\n",
    "data.describe()"
   ]
  },
  {
   "cell_type": "markdown",
   "id": "71aef221",
   "metadata": {},
   "source": [
    "The data gathered for this analyis is collected from King Leopold's Congo and the \"Scramble for Africa\" by Michael A. Rutz\n",
    "\n",
    "Specifically from page 163 and the 'Sample of names used in this word'.\n",
    "\n",
    "We can see from the commands above that there are 271 rows of names, with 270 unique names, 188 distinct translations, originating from 91 locations. In addition to this, asside from collective 'meta' names there are 99 names given to colonials by natives.\n",
    "\n",
    "The datatypes are as follows:"
   ]
  },
  {
   "cell_type": "code",
   "execution_count": null,
   "id": "9875e7e2",
   "metadata": {},
   "outputs": [],
   "source": [
    "data.dtypes"
   ]
  },
  {
   "cell_type": "markdown",
   "id": "427ad0b7",
   "metadata": {},
   "source": [
    "Local Name - Object\n",
    "\n",
    "Translation - Object\n",
    "\n",
    "Location - Object\t\n",
    "\n",
    "Real Name - Object\n",
    "\n",
    "Now just to be certain we will check the dataset for duplicates."
   ]
  },
  {
   "cell_type": "code",
   "execution_count": null,
   "id": "ff7796cf",
   "metadata": {},
   "outputs": [],
   "source": [
    "i = -1\n",
    "for x in data.duplicated():\n",
    "    i += 1\n",
    "    \n",
    "    if x == True:\n",
    "        print(x)\n",
    "        print(i)"
   ]
  },
  {
   "cell_type": "markdown",
   "id": "08f06c72",
   "metadata": {},
   "source": [
    "Success, no duplicates, Now we move on to the interesting part, [sentiment analysis](https://monkeylearn.com/sentiment-analysis/).\n",
    "\n",
    "Now we can split our data into its corresponding columns so that we can work with it more easily.\n"
   ]
  },
  {
   "cell_type": "code",
   "execution_count": null,
   "id": "50b61e69",
   "metadata": {},
   "outputs": [],
   "source": [
    "names_1 = list(data['Local Names'])\n",
    "transl = list(data[\"Translation\"])\n",
    "location = list(data[\"Location\"])\n",
    "names_2 = list(data['Real Names'])"
   ]
  },
  {
   "cell_type": "markdown",
   "id": "3e6bd84f",
   "metadata": {},
   "source": [
    "This piece of code shows any name with punctuation, it will break when encountering nan or null values and was used for error testing."
   ]
  },
  {
   "cell_type": "code",
   "execution_count": null,
   "id": "d0789440",
   "metadata": {
    "scrolled": true
   },
   "outputs": [],
   "source": [
    "str_punk = '''!()-[]{};:'\"\\,<>./?@#$%^&*~'''\n",
    "no_p = \"\"\n",
    "\n",
    "for item in names_2:\n",
    "    for el in str_punk:\n",
    "        if el in item:\n",
    "            print(item)\n",
    "            "
   ]
  },
  {
   "cell_type": "markdown",
   "id": "ed1833d1",
   "metadata": {},
   "source": [
    "The function below defines the [markdown](https://www.markdownguide.org/) table, which the results of our analysis will be stored.\n",
    "\n",
    "As you can see there are also some helper function I've created to help iterate through data."
   ]
  },
  {
   "cell_type": "code",
   "execution_count": null,
   "id": "e9f5f77b",
   "metadata": {},
   "outputs": [],
   "source": [
    "def show_markdown_table(headers: List[str], data: List) -> str:\n",
    "    s = f\"| {' | '.join(headers)} |\\n| {' | '.join([(max(1, len(header) - 1)) * '-' + ':' for header in headers])} |\\n\"\n",
    "    for row in data:\n",
    "        s += f\"| {' | '.join([str(item) for item in row])} |\\n\"\n",
    "    display(Markdown(s))"
   ]
  },
  {
   "cell_type": "markdown",
   "id": "fe9d8a0d",
   "metadata": {},
   "source": [
    "The function below takes in an input of either one name, or a list of names. It will return a resulting markdown table giving the scores of such input names."
   ]
  },
  {
   "cell_type": "code",
   "execution_count": null,
   "id": "aa9063d3",
   "metadata": {},
   "outputs": [],
   "source": [
    "def en_name_analyzer(name):\n",
    "\n",
    "    sid = SentimentIntensityAnalyzer()    \n",
    "\n",
    "    return sid.polarity_scores(name)"
   ]
  },
  {
   "cell_type": "code",
   "execution_count": null,
   "id": "58158346",
   "metadata": {},
   "outputs": [],
   "source": [
    "def sw_name_analyzer(name):\n",
    "    \n",
    "    # name in this case is a list of names\n",
    "\n",
    "    sid = SentimentIntensityAnalyzer()    \n",
    "\n",
    "    return sid.polarity_scores(name)"
   ]
  },
  {
   "cell_type": "code",
   "execution_count": null,
   "id": "ab7d6743",
   "metadata": {},
   "outputs": [],
   "source": [
    "    #dis=[]\n",
    "    #sid = SentimentIntensityAnalyzer()\n",
    "    \n",
    "    #if isinstance(name, list):\n",
    "    #    dis.append([[sid.polarity_scores(x)] for x in name])\n",
    "    #    return dis\n",
    "                \n",
    "    #else:\n",
    "    #    return sid.polarity_scores(name)"
   ]
  },
  {
   "cell_type": "code",
   "execution_count": null,
   "id": "f6deec18",
   "metadata": {},
   "outputs": [],
   "source": [
    "print(names_1, '\\n')\n",
    "print(sw_name_analyzer(name))"
   ]
  },
  {
   "cell_type": "markdown",
   "id": "31d31171",
   "metadata": {},
   "source": [
    "Having defined such functions we can perform an analysis on our own dataset.\n",
    "\n",
    "The code below is complex, but I will annotate it to the best of my ability.\n",
    " \n",
    " comments are denoted with '#' marks."
   ]
  },
  {
   "cell_type": "code",
   "execution_count": 15,
   "id": "1dafd82c",
   "metadata": {},
   "outputs": [
    {
     "data": {
      "text/markdown": [
       "| local name | score | location | translation | real name |\n",
       "| ---------: | ----: | -------: | ----------: | --------: |\n",
       "| Abombo | {'neg': 0.0, 'neu': 1.0, 'pos': 0.0, 'compound': 0.0} | Kisanagani | _  0.0 | Dupont 0.0 |\n",
       "| Adami | {'neg': 0.0, 'neu': 1.0, 'pos': 0.0, 'compound': 0.0} | Opala  | Madam  0.0 | generic 0.0 |\n",
       "| Adamisu | {'neg': 0.0, 'neu': 1.0, 'pos': 0.0, 'compound': 0.0} | Basoko | Knowing eyes, control, anger -0.5719 | _ 0.0 |\n",
       "| Aduyi | {'neg': 0.0, 'neu': 1.0, 'pos': 0.0, 'compound': 0.0} | _ | Lion 0.0 | _ 0.0 |\n",
       "| Aginu | {'neg': 0.0, 'neu': 1.0, 'pos': 0.0, 'compound': 0.0} | Kisangani | Kneeling 0.0 | Genot 0.0 |\n",
       "| Agomiriya | {'neg': 0.0, 'neu': 1.0, 'pos': 0.0, 'compound': 0.0} | Moto | Abuser of women; Unfaithful husband -0.5574 | generic 0.0 |\n",
       "| Alali na se | {'neg': 0.0, 'neu': 1.0, 'pos': 0.0, 'compound': 0.0} | Equateur |  He who is lying down -0.5267 | _ 0.0 |\n",
       "| Alinga Mama | {'neg': 0.0, 'neu': 1.0, 'pos': 0.0, 'compound': 0.0} | Aruwimi  | He who loves mother;  0.5719 | generic 0.0 |\n",
       "| Alinga Likaya | {'neg': 0.0, 'neu': 1.0, 'pos': 0.0, 'compound': 0.0} | _ | Drunken smoker 0.0 | _ 0.0 |\n",
       "| Alinga Tumba | {'neg': 0.0, 'neu': 1.0, 'pos': 0.0, 'compound': 0.0} | _ | Fight Lover  0.296 | _ 0.0 |\n",
       "| Alube | {'neg': 0.0, 'neu': 1.0, 'pos': 0.0, 'compound': 0.0} | Kasai | King Albert 0.0 | King Albert 0.0 |\n",
       "| Angbalima | {'neg': 0.0, 'neu': 1.0, 'pos': 0.0, 'compound': 0.0} | Basoko | Terror -0.5267 | _ 0.0 |\n",
       "| Angbotalikume | {'neg': 0.0, 'neu': 1.0, 'pos': 0.0, 'compound': 0.0} | Baskoko | _ 0.0 | _ 0.0 |\n",
       "| Angwadima | {'neg': 0.0, 'neu': 1.0, 'pos': 0.0, 'compound': 0.0} | Eastern Congo | Terror -0.5267 | _ 0.0 |\n",
       "| Asali Monkanda | {'neg': 0.0, 'neu': 1.0, 'pos': 0.0, 'compound': 0.0} | Kisangani | He has written a letter  0.0 | D'Hondt 0.0 |\n",
       "| Atama-Atama | {'neg': 0.0, 'neu': 1.0, 'pos': 0.0, 'compound': 0.0} | Opala | Enslavers 0.0 | any whites 0.0 |\n",
       "| Atamu | {'neg': 0.0, 'neu': 1.0, 'pos': 0.0, 'compound': 0.0} | Opala | Madam 0.0 | generic 0.0 |\n",
       "| Ataso | {'neg': 0.0, 'neu': 1.0, 'pos': 0.0, 'compound': 0.0} | everywhere | Attention 0.0 | generic 0.0 |\n",
       "| Atila Okondo | {'neg': 0.0, 'neu': 1.0, 'pos': 0.0, 'compound': 0.0} | Opala | He who does not let any land lie fallow 0.0 | any crop supervisor 0.0 |\n",
       "| Awaya-Awaya | {'neg': 0.0, 'neu': 1.0, 'pos': 0.0, 'compound': 0.0} | Kasai  | Lack of direction  -0.3182 | generic 0.0 |\n",
       "| Bajunu | {'neg': 0.0, 'neu': 1.0, 'pos': 0.0, 'compound': 0.0} |  Kisangani  | Kneeling 0.0 | generic 0.0 |\n",
       "| Bakola | {'neg': 0.0, 'neu': 1.0, 'pos': 0.0, 'compound': 0.0} | Inongo  | Generation 0.0 | Cloetens et al. 0.0 |\n",
       "| Bala-Bala | {'neg': 0.0, 'neu': 1.0, 'pos': 0.0, 'compound': 0.0} | everywhere any | Main road; Officials on the move 0.0 |  itinerate agent 0.0 |\n",
       "| Balikpe | {'neg': 0.0, 'neu': 1.0, 'pos': 0.0, 'compound': 0.0} | Uele  | Leaves eater  0.0 | G. Schweinfurth 0.0 |\n",
       "| Balikuhe | {'neg': 0.0, 'neu': 1.0, 'pos': 0.0, 'compound': 0.0} | Uele  | He was eating raw, bland food  0.0 | G. Miani 0.0 |\n",
       "| Bambenga | {'neg': 0.0, 'neu': 1.0, 'pos': 0.0, 'compound': 0.0} | Equateur | Red pepper  0.0 | _ 0.0 |\n",
       "| Bana Muanama | {'neg': 0.0, 'neu': 1.0, 'pos': 0.0, 'compound': 0.0} | Kisangani  | Water spirit  0.1779 | Wouters 0.0 |\n",
       "| Bandungu | {'neg': 0.0, 'neu': 1.0, 'pos': 0.0, 'compound': 0.0} | Lac Leopold II  | Pepper  0.0 | P.-J. Van de Moere 0.0 |\n",
       "| Bapenda Kula | {'neg': 0.0, 'neu': 1.0, 'pos': 0.0, 'compound': 0.0} | Ituri  | They who love to eat  0.6369 | generic 0.0 |\n",
       "| Basikoti | {'neg': 0.0, 'neu': 1.0, 'pos': 0.0, 'compound': 0.0} | everywhere | Much whipping; Hippopotamus-hide whip 0.0 | generic 0.0 |\n",
       "| Batu Pamba | {'neg': 0.0, 'neu': 1.0, 'pos': 0.0, 'compound': 0.0} | Uele  | Straw men 0.0 | generic 0.0 |\n",
       "| Belei | {'neg': 0.0, 'neu': 1.0, 'pos': 0.0, 'compound': 0.0} | Bumba  | Lover of women  0.5859 | generic 0.0 |\n",
       "| Bikengakenga | {'neg': 0.0, 'neu': 1.0, 'pos': 0.0, 'compound': 0.0} | Katanga | _ 0.0 | _ 0.0 |\n",
       "| Bola-Bola | {'neg': 0.0, 'neu': 1.0, 'pos': 0.0, 'compound': 0.0} | Equateur | Beat, bear; ruthless beater 0.0 | _ 0.0 |\n",
       "| Bolemba | {'neg': 0.0, 'neu': 1.0, 'pos': 0.0, 'compound': 0.0} | Équateur, Opala | Stupefying vine for killing fish -0.6597 | _ 0.0 |\n",
       "| Bombeki | {'neg': 0.0, 'neu': 1.0, 'pos': 0.0, 'compound': 0.0} | Equateur | _ 0.0 | H. Bombeeck 0.0 |\n",
       "| Bosolo | {'neg': 0.0, 'neu': 1.0, 'pos': 0.0, 'compound': 0.0} | Equateur | _ 0.0 | _ 0.0 |\n",
       "| Bula Matari | {'neg': 0.0, 'neu': 1.0, 'pos': 0.0, 'compound': 0.0} | _ | Break rocks 0.0 | any agent 0.0 |\n",
       "| Bula Matende | {'neg': 0.0, 'neu': 1.0, 'pos': 0.0, 'compound': 0.0} | Vivi, Basoko | Dynamiter; Break rocks -0.296 | Van Kerkhoven 0.0 |\n",
       "| Bumba | {'neg': 0.0, 'neu': 1.0, 'pos': 0.0, 'compound': 0.0} | Kisangani | Who comes from bumba 0.0 | Luthy 0.0 |\n",
       "| Bwana Kapia | {'neg': 0.0, 'neu': 1.0, 'pos': 0.0, 'compound': 0.0} | Katanga  | Second-born of twins  0.0 | Delvaux 0.0 |\n",
       "| Bwana Kaseya | {'neg': 0.0, 'neu': 1.0, 'pos': 0.0, 'compound': 0.0} | Kasongo  | _ 0.0 | Verditch 0.0 |\n",
       "| Bwana Kenengene | {'neg': 0.0, 'neu': 1.0, 'pos': 0.0, 'compound': 0.0} | Katanga | _ 0.0 | _ 0.0 |\n",
       "| Bwana Kidogo | {'neg': 0.0, 'neu': 1.0, 'pos': 0.0, 'compound': 0.0} | Eastern Congo |  Mister small; Little boss  0.0 | _ 0.0 |\n",
       "| Bwana Kioseni | {'neg': 0.0, 'neu': 1.0, 'pos': 0.0, 'compound': 0.0} | _ | _ 0.0 | _ 0.0 |\n",
       "| Bwana Kitoko | {'neg': 0.0, 'neu': 1.0, 'pos': 0.0, 'compound': 0.0} | everywhere  | Mister handsome  0.4939 | King Baudouin 0.0 |\n",
       "| Bwana Leke | {'neg': 0.0, 'neu': 1.0, 'pos': 0.0, 'compound': 0.0} | Kasai | Mister Leke 0.0 | Legat 0.0 |\n",
       "| Bwana Lubuku | {'neg': 0.0, 'neu': 1.0, 'pos': 0.0, 'compound': 0.0} | Kasongo | Master builder;  0.0 | Van Malderen 0.0 |\n",
       "| Bwana Lutshina | {'neg': 0.0, 'neu': 1.0, 'pos': 0.0, 'compound': 0.0} | Katanga | _ 0.0 | _ 0.0 |\n",
       "| Bwana Maibwe | {'neg': 0.0, 'neu': 1.0, 'pos': 0.0, 'compound': 0.0} |  Katanga  | Mister stone 0.0 | _ 0.0 |\n",
       "| Bwana Mukubwa | {'neg': 0.0, 'neu': 1.0, 'pos': 0.0, 'compound': 0.0} | Eastern Congo | Big boss; Superior; Mister tall  0.5423 | _ 0.0 |\n",
       "| Bwana Mzuri | {'neg': 0.0, 'neu': 1.0, 'pos': 0.0, 'compound': 0.0} | Katanga | Mister handsome  0.4939 | _ 0.0 |\n",
       "| Bwana Ndeke  | {'neg': 0.0, 'neu': 1.0, 'pos': 0.0, 'compound': 0.0} | Kilo  | Mister bird  0.0 | Henry 0.0 |\n",
       "| Bwana Ndeke | {'neg': 0.0, 'neu': 1.0, 'pos': 0.0, 'compound': 0.0} | Kisangani | Mister bird  0.0 |  L. Oswald, L. Adhémar, C. de Leuze 0.0 |\n",
       "| Bwana Nioka  | {'neg': 0.0, 'neu': 1.0, 'pos': 0.0, 'compound': 0.0} |  Katanga | Mister snake 0.0 |  Gilson 0.0 |\n",
       "| Bwana Nzige | {'neg': 0.0, 'neu': 1.0, 'pos': 0.0, 'compound': 0.0} | _ | Mister locust  0.0 | any violent agent -0.5994 |\n",
       "| Bwana Pangabisoto  | {'neg': 0.0, 'neu': 1.0, 'pos': 0.0, 'compound': 0.0} | Katanga | _ 0.0 | _ 0.0 |\n",
       "| Bwana Tomasi | {'neg': 0.0, 'neu': 1.0, 'pos': 0.0, 'compound': 0.0} | Katanga | Mister Thomas  0.0 | _ 0.0 |\n",
       "| Bwana Tumbaku  | {'neg': 0.0, 'neu': 1.0, 'pos': 0.0, 'compound': 0.0} | Kisangani | _ 0.0 | T.Nicolas 0.0 |\n",
       "| Chakundia  | {'neg': 0.0, 'neu': 1.0, 'pos': 0.0, 'compound': 0.0} | Katanga | He who can eat me  0.0 | _ 0.0 |\n",
       "| Chicotte | {'neg': 0.0, 'neu': 1.0, 'pos': 0.0, 'compound': 0.0} | Baringa  |  Whipping  0.0 | G. Dineur 0.0 |\n",
       "| Cibalabala | {'neg': 0.0, 'neu': 1.0, 'pos': 0.0, 'compound': 0.0} | Kasai  |  Wild cat 0.0 | F. Van Nimmen, J. Van Uden 0.0 |\n",
       "| Cibutama | {'neg': 0.0, 'neu': 1.0, 'pos': 0.0, 'compound': 0.0} | Kasai |  To hide small scar  -0.1779 |  R. Bearts 0.0 |\n",
       "| Cimpanga  | {'neg': 0.0, 'neu': 1.0, 'pos': 0.0, 'compound': 0.0} | Kasai  | Bull 0.0 | A. Demunster 0.0 |\n",
       "| Ciswa-bantu | {'neg': 0.0, 'neu': 1.0, 'pos': 0.0, 'compound': 0.0} | Kasai  |  He who loves people 0.5719 | A. Lippens 0.0 |\n",
       "| Citoko | {'neg': 0.0, 'neu': 1.0, 'pos': 0.0, 'compound': 0.0} | Kasai | Handsome  0.4939 | _ 0.0 |\n",
       "| Djeke | {'neg': 0.0, 'neu': 1.0, 'pos': 0.0, 'compound': 0.0} | Katanga | _ 0.0 | _ 0.0 |\n",
       "| Djoko deli | {'neg': 0.0, 'neu': 1.0, 'pos': 0.0, 'compound': 0.0} | Kasai | _+ 0.0 | _ 0.0 |\n",
       "| Ebeniq | {'neg': 0.0, 'neu': 1.0, 'pos': 0.0, 'compound': 0.0} |  Katanga | _ 0.0 | _ 0.0 |\n",
       "| Ebuka-Buka | {'neg': 0.0, 'neu': 1.0, 'pos': 0.0, 'compound': 0.0} |  Ekonda, Équateur | Breaker of things, into pieces 0.0 | _ 0.0 |\n",
       "| Efanja  | {'neg': 0.0, 'neu': 1.0, 'pos': 0.0, 'compound': 0.0} | Ekonda, Équateur | He who disperses people  0.0 | _ 0.0 |\n",
       "| Ekanda  | {'neg': 0.0, 'neu': 1.0, 'pos': 0.0, 'compound': 0.0} | Bolobo | _ 0.0 | Grenfell 0.0 |\n",
       "| Ekanga-kanga  | {'neg': 0.0, 'neu': 1.0, 'pos': 0.0, 'compound': 0.0} | Équateur | He who arrests people arbitrarily AND indiscriminately -0.4404 | _ 0.0 |\n",
       "| Ekatankoi  | {'neg': 0.0, 'neu': 1.0, 'pos': 0.0, 'compound': 0.0} | Tomba | _ 0.0 |  Steinbeck 0.0 |\n",
       "| Ekuma  | {'neg': 0.0, 'neu': 1.0, 'pos': 0.0, 'compound': 0.0} | nan | He who destroys things  -0.5574 | Équateur 0.0 |\n",
       "| Eminimbi  | {'neg': 0.0, 'neu': 1.0, 'pos': 0.0, 'compound': 0.0} |  Uele  | Emin, the wicked -0.5267 | E. Schnitzer (Emin Pacha) 0.0 |\n",
       "| Engalala | {'neg': 0.0, 'neu': 1.0, 'pos': 0.0, 'compound': 0.0} |  Lac Leopold II |  Palm leaf 0.0 | Lemaire 0.0 |\n",
       "| Etumba Mbilo | {'neg': 0.0, 'neu': 1.0, 'pos': 0.0, 'compound': 0.0} | nan |  Office that resemblesa battlefield -0.3818 | _ 0.0 |\n",
       "| Ewa-Olefe | {'neg': 0.0, 'neu': 1.0, 'pos': 0.0, 'compound': 0.0} | Yanonge  |  Womanizer  0.0 | generic 0.0 |\n",
       "| Fasa ou Nkosa Nkosa | {'neg': 0.0, 'neu': 1.0, 'pos': 0.0, 'compound': 0.0} | Inongo | _ 0.0 | _ 0.0 |\n",
       "| Fazzari  | {'neg': 0.0, 'neu': 1.0, 'pos': 0.0, 'compound': 0.0} | Basoko, Mbesa | _ 0.0 | _ 0.0 |\n",
       "| Fimbo Mingi | {'neg': 0.0, 'neu': 1.0, 'pos': 0.0, 'compound': 0.0} | Kasongo |  Much whipping; Hippopotamus-hide whip  0.0 |  Baron Dhanis 0.0 |\n",
       "| Genda genda | {'neg': 0.0, 'neu': 1.0, 'pos': 0.0, 'compound': 0.0} | _ | _ 0.0 | _ 0.0 |\n",
       "| Guruguru | {'neg': 0.0, 'neu': 1.0, 'pos': 0.0, 'compound': 0.0} | Uele | Pierced ear lobes  0.0 | Ibrahim 0.0 |\n",
       "| Hela  | {'neg': 0.0, 'neu': 1.0, 'pos': 0.0, 'compound': 0.0} |  Isangi  | onomatopoea 0.0 | Harens 0.0 |\n",
       "| Hoy na Gola | {'neg': 0.0, 'neu': 1.0, 'pos': 0.0, 'compound': 0.0} |  Kisangani | _ 0.0 |  Butticaz 0.0 |\n",
       "| Iboko | {'neg': 0.0, 'neu': 1.0, 'pos': 0.0, 'compound': 0.0} |  Tomba | _ 0.0 |  Lieventhal 0.0 |\n",
       "| Ikeleso | {'neg': 0.0, 'neu': 1.0, 'pos': 0.0, 'compound': 0.0} | _ | _ 0.0 | _ 0.0 |\n",
       "| Ikoka | {'neg': 0.0, 'neu': 1.0, 'pos': 0.0, 'compound': 0.0} | _ |  He who shoots people 0.0 | _ 0.0 |\n",
       "| Ikuka | {'neg': 0.0, 'neu': 1.0, 'pos': 0.0, 'compound': 0.0} | _ | Bitter shrub -0.4215 | _ 0.0 |\n",
       "| Ilanga | {'neg': 0.0, 'neu': 1.0, 'pos': 0.0, 'compound': 0.0} | Equateur | Enmity  0.0 | _ 0.0 |\n",
       "| Ipanga Ngunda | {'neg': 0.0, 'neu': 1.0, 'pos': 0.0, 'compound': 0.0} | Congo Free State | He who destroys Upper Congo the country -0.5574 | _ 0.0 |\n",
       "| Ipipola | {'neg': 0.0, 'neu': 1.0, 'pos': 0.0, 'compound': 0.0} | Opala | Copulation 0.0 | _ 0.0 |\n",
       "| Itumba Mbilu | {'neg': 0.0, 'neu': 1.0, 'pos': 0.0, 'compound': 0.0} | Tomba  | War-like office 0.0 | _ 0.0 |\n",
       "| Kabalo | {'neg': 0.0, 'neu': 1.0, 'pos': 0.0, 'compound': 0.0} | Kasai | Horse 0.0 | Gillian 0.0 |\n",
       "| Kabangu | {'neg': 0.0, 'neu': 1.0, 'pos': 0.0, 'compound': 0.0} | Kasai | Small scar; device of torture -0.5994 | L. De Brandt 0.0 |\n",
       "| Kabesa Babo | {'neg': 0.0, 'neu': 1.0, 'pos': 0.0, 'compound': 0.0} | Lulubourg | _ 0.0 | Wissman 0.0 |\n",
       "| Kabuakiatunge | {'neg': 0.0, 'neu': 1.0, 'pos': 0.0, 'compound': 0.0} | Maniema | Whipping  0.0 | _ 0.0 |\n",
       "| Kakese | {'neg': 0.0, 'neu': 1.0, 'pos': 0.0, 'compound': 0.0} | Katanga | small, junior 0.0 | _ 0.0 |\n",
       "| Kamuziki | {'neg': 0.0, 'neu': 1.0, 'pos': 0.0, 'compound': 0.0} | Lac Leopold II | Little music 0.0 | A.J.G. Bolle 0.0 |\n",
       "| Kangipipe | {'neg': 0.0, 'neu': 1.0, 'pos': 0.0, 'compound': 0.0} | Katanga | _ 0.0 | _ 0.0 |\n",
       "| Kapiteni | {'neg': 0.0, 'neu': 1.0, 'pos': 0.0, 'compound': 0.0} | Province Orientale | Captain 0.0 | generic 0.0 |\n",
       "| Kaputi | {'neg': 0.0, 'neu': 1.0, 'pos': 0.0, 'compound': 0.0} | Inongo | _ 0.0 | J. de Dixmude 0.0 |\n",
       "| Kaseya | {'neg': 0.0, 'neu': 1.0, 'pos': 0.0, 'compound': 0.0} | Katanga | _ 0.0 | _ 0.0 |\n",
       "| Kashabala | {'neg': 0.0, 'neu': 1.0, 'pos': 0.0, 'compound': 0.0} | Kasai | _ 0.0 | Gasper 0.0 |\n",
       "| Kasiama Nkoi | {'neg': 0.0, 'neu': 1.0, 'pos': 0.0, 'compound': 0.0} | _ | _ 0.0 | _ 0.0 |\n",
       "| Kasongo Bushila | {'neg': 0.0, 'neu': 1.0, 'pos': 0.0, 'compound': 0.0} | Kasai | Tall and lean 0.0 | Bugschlag 0.0 |\n",
       "| Kasongo Mule | {'neg': 0.0, 'neu': 1.0, 'pos': 0.0, 'compound': 0.0} | Kasai | Tall and lean 0.0 | Gillian 0.0 |\n",
       "| Kelekeke | {'neg': 0.0, 'neu': 1.0, 'pos': 0.0, 'compound': 0.0} | Katanga | _ 0.0 | _ 0.0 |\n",
       "| Kelelo | {'neg': 0.0, 'neu': 1.0, 'pos': 0.0, 'compound': 0.0} | Lac Leopold II | Bugle 0.0 | A.J.G. Bolle 0.0 |\n",
       "| Kilupula | {'neg': 0.0, 'neu': 1.0, 'pos': 0.0, 'compound': 0.0} | Katanga | _ 0.0 | _ 0.0 |\n",
       "| Kimbwi | {'neg': 0.0, 'neu': 1.0, 'pos': 0.0, 'compound': 0.0} | Katanga | _ 0.0 | _ 0.0 |\n",
       "| Kiomba Musinga | {'neg': 0.0, 'neu': 1.0, 'pos': 0.0, 'compound': 0.0} | Katanga | _ 0.0 | _ 0.0 |\n",
       "| Kitatshindja | {'neg': 0.0, 'neu': 1.0, 'pos': 0.0, 'compound': 0.0} | Kasongo | He who cuts people in pieces -0.296 | Moltedo 0.0 |\n",
       "| Kitoko | {'neg': 0.0, 'neu': 1.0, 'pos': 0.0, 'compound': 0.0} | everywhere | Handsome; Beautiful; Delicious taste 0.8957 | handsome agent 0.4939 |\n",
       "| Kituanga | {'neg': 0.0, 'neu': 1.0, 'pos': 0.0, 'compound': 0.0} | Kisangi | He who smashes people; Grinder 0.0 | Five Jean 0.0 |\n",
       "| Kobinda | {'neg': 0.0, 'neu': 1.0, 'pos': 0.0, 'compound': 0.0} | _ | _ 0.0 | Sergers 0.0 |\n",
       "| Koja | {'neg': 0.0, 'neu': 1.0, 'pos': 0.0, 'compound': 0.0} | Uele | _ 0.0 | G. Junker 0.0 |\n",
       "| Kolongo | {'neg': 0.0, 'neu': 1.0, 'pos': 0.0, 'compound': 0.0} | Kisangani | _ 0.0 | Lauwers Atay 0.0 |\n",
       "| Koma-Koma | {'neg': 0.0, 'neu': 1.0, 'pos': 0.0, 'compound': 0.0} | Equateur | He who can strangle me 0.0 | _ 0.0 |\n",
       "| Komanda | {'neg': 0.0, 'neu': 1.0, 'pos': 0.0, 'compound': 0.0} | _ | Commander 0.0 | generic 0.0 |\n",
       "| Konga | {'neg': 0.0, 'neu': 1.0, 'pos': 0.0, 'compound': 0.0} | Katanga | _ 0.0 | Crawford 0.0 |\n",
       "| Kulu-Kulu | {'neg': 0.0, 'neu': 1.0, 'pos': 0.0, 'compound': 0.0} | Katanga | Violence trigger; troublemaker -0.7964 | _ 0.0 |\n",
       "| Kuta Bongo | {'neg': 0.0, 'neu': 1.0, 'pos': 0.0, 'compound': 0.0} | Basoko Purnode | _ 0.0 | _ 0.0 |\n",
       "| Lambo | {'neg': 0.0, 'neu': 1.0, 'pos': 0.0, 'compound': 0.0} | Katanga | _ 0.0 | _ 0.0 |\n",
       "| Lamu | {'neg': 0.0, 'neu': 1.0, 'pos': 0.0, 'compound': 0.0} | Katanga | _ 0.0 | _ 0.0 |\n",
       "| Liamamba | {'neg': 0.0, 'neu': 1.0, 'pos': 0.0, 'compound': 0.0} | Ekonda, Opala | Millipede 0.0 | _ 0.0 |\n",
       "| Liboma | {'neg': 0.0, 'neu': 1.0, 'pos': 0.0, 'compound': 0.0} | Équateur | He who kills -0.5423 | _ 0.0 |\n",
       "| Libumbu | {'neg': 0.0, 'neu': 1.0, 'pos': 0.0, 'compound': 0.0} | Lefevre | Elegance 0.4767 | _ 0.0 |\n",
       "| Libumu | {'neg': 0.0, 'neu': 1.0, 'pos': 0.0, 'compound': 0.0} | Province Orientale | Belly 0.0 | _ 0.0 |\n",
       "| Likoka | {'neg': 0.0, 'neu': 1.0, 'pos': 0.0, 'compound': 0.0} | Tumba | Shooter 0.0 | _ 0.0 |\n",
       "| Likoke | {'neg': 0.0, 'neu': 1.0, 'pos': 0.0, 'compound': 0.0} | Ekonda | Prickly tree -0.2263 | _ 0.0 |\n",
       "| Likwama | {'neg': 0.0, 'neu': 1.0, 'pos': 0.0, 'compound': 0.0} | Mampoko  | _ 0.0 | M. Spelier 0.0 |\n",
       "| Lilanga-atumbe | {'neg': 0.0, 'neu': 1.0, 'pos': 0.0, 'compound': 0.0} | Equateur | Garden destructor 0.0 | _ 0.0 |\n",
       "| Limende | {'neg': 0.0, 'neu': 1.0, 'pos': 0.0, 'compound': 0.0} | Yahisuli | _ 0.0 | _ 0.0 |\n",
       "| Liombo | {'neg': 0.0, 'neu': 1.0, 'pos': 0.0, 'compound': 0.0} | Opala | Broom; Flywhisk 0.0 | Wautier 0.0 |\n",
       "| Lipumbu | {'neg': 0.0, 'neu': 1.0, 'pos': 0.0, 'compound': 0.0} | Province Orientale | Elegant 0.4767 | _ 0.0 |\n",
       "| Lokesa | {'neg': 0.0, 'neu': 1.0, 'pos': 0.0, 'compound': 0.0} | Basoko | _ 0.0 | Dekeyzer 0.0 |\n",
       "| Lokonga | {'neg': 0.0, 'neu': 1.0, 'pos': 0.0, 'compound': 0.0} | Ekonda, Opala | venomous snake 0.0 | _ 0.0 |\n",
       "| Lombolembo | {'neg': 0.0, 'neu': 1.0, 'pos': 0.0, 'compound': 0.0} | Kisangani | _ 0.0 | Jamsin 0.0 |\n",
       "| Longo-Longo | {'neg': 0.0, 'neu': 1.0, 'pos': 0.0, 'compound': 0.0} | Kilo, Moto | tall-tall 0.0 | _ 0.0 |\n",
       "| Longwango | {'neg': 0.0, 'neu': 1.0, 'pos': 0.0, 'compound': 0.0} | Lac Leopold II | _ 0.0 | G.O. Scioz 0.0 |\n",
       "| Longwani | {'neg': 0.0, 'neu': 1.0, 'pos': 0.0, 'compound': 0.0} | Katanga | _ 0.0 | _ 0.0 |\n",
       "| Loponge | {'neg': 0.0, 'neu': 1.0, 'pos': 0.0, 'compound': 0.0} | Basoko | onomatopoea 0.0 | P. Ponthier 0.0 |\n",
       "| Luanda | {'neg': 0.0, 'neu': 1.0, 'pos': 0.0, 'compound': 0.0} | Kazembe | Predatory trade 0.0 | M. Caetano Pereira 0.0 |\n",
       "| Lubuku | {'neg': 0.0, 'neu': 1.0, 'pos': 0.0, 'compound': 0.0} | Kasongo | Builder 0.0 | Van Malderen 0.0 |\n",
       "| Lukwako | {'neg': 0.0, 'neu': 1.0, 'pos': 0.0, 'compound': 0.0} | Zimba | Go back where you came from 0.0 | _ 0.0 |\n",
       "| Lumandemulu | {'neg': 0.0, 'neu': 1.0, 'pos': 0.0, 'compound': 0.0} | Lac Leopold II | Fine collector 0.2023 | P.J. Van de Moere 0.0 |\n",
       "| Madami | {'neg': 0.0, 'neu': 1.0, 'pos': 0.0, 'compound': 0.0} | Opala | Madam 0.0 | generic 0.0 |\n",
       "| Mafuta | {'neg': 0.0, 'neu': 1.0, 'pos': 0.0, 'compound': 0.0} | Katanga | fat 0.0 | _ 0.0 |\n",
       "| Mafuta Mingi | {'neg': 0.0, 'neu': 1.0, 'pos': 0.0, 'compound': 0.0} | Mbesa, Beugamisa, Kilo | A lot of fat 0.0 | Bell, M. Polis 0.0 |\n",
       "| Maine mingi | {'neg': 0.0, 'neu': 1.0, 'pos': 0.0, 'compound': 0.0} | Basoko | A lot of fat 0.0 | _ 0.0 |\n",
       "| Maina | {'neg': 0.0, 'neu': 1.0, 'pos': 0.0, 'compound': 0.0} | _ | Fat 0.0 | _ 0.0 |\n",
       "| Makasi | {'neg': 0.0, 'neu': 1.0, 'pos': 0.0, 'compound': 0.0} | Aruwimi | Force, power, strong  0.5106 | _ 0.0 |\n",
       "| Makisi | {'neg': 0.0, 'neu': 1.0, 'pos': 0.0, 'compound': 0.0} | Katanga | _ 0.0 | _ 0.0 |\n",
       "| Makpatu | {'neg': 0.0, 'neu': 1.0, 'pos': 0.0, 'compound': 0.0} | Basoko | Chaser of women 0.0 | _ 0.0 |\n",
       "| Makupkup | {'neg': 0.0, 'neu': 1.0, 'pos': 0.0, 'compound': 0.0} | Kuba | Of the old village 0.0 | _ 0.0 |\n",
       "| Malakolo | {'neg': 0.0, 'neu': 1.0, 'pos': 0.0, 'compound': 0.0} | Zimba | _ 0.0 | _ 0.0 |\n",
       "| Mala-Mala | {'neg': 0.0, 'neu': 1.0, 'pos': 0.0, 'compound': 0.0} | Kasai | Main roads; Officials on the moove 0.0 | _ 0.0 |\n",
       "| Malanda | {'neg': 0.0, 'neu': 1.0, 'pos': 0.0, 'compound': 0.0} | Uele | Follower 0.0 | Van Hende 0.0 |\n",
       "| Malenge | {'neg': 0.0, 'neu': 1.0, 'pos': 0.0, 'compound': 0.0} | Ubangi | _ 0.0 | _ 0.0 |\n",
       "| Malonga Longa | {'neg': 0.0, 'neu': 1.0, 'pos': 0.0, 'compound': 0.0} | Katanga | _ 0.0 | _ 0.0 |\n",
       "| Malu-Malu | {'neg': 0.0, 'neu': 1.0, 'pos': 0.0, 'compound': 0.0} | Lac Leopold II | Rush, rush 0.0 | _ 0.0 |\n",
       "| Mandevu Mingi | {'neg': 0.0, 'neu': 1.0, 'pos': 0.0, 'compound': 0.0} | Province Orientale | Beard 0.0 | _ 0.0 |\n",
       "| Mangbe  | {'neg': 0.0, 'neu': 1.0, 'pos': 0.0, 'compound': 0.0} |  Buta | Lightning; Scrapers of the heaps; White cannibals 0.0 | _ 0.0 |\n",
       "| Mangema  | {'neg': 0.0, 'neu': 1.0, 'pos': 0.0, 'compound': 0.0} | Zimba | _ 0.0 | _ 0.0 |\n",
       "| Matala-Tala | {'neg': 0.0, 'neu': 1.0, 'pos': 0.0, 'compound': 0.0} |  Buta |  Mirror, eyeglasses, scrutiny; Witchcraft 0.0 | _ 0.0 |\n",
       "| Matamba-Tamba | {'neg': 0.0, 'neu': 1.0, 'pos': 0.0, 'compound': 0.0} |  Opala |  Enslavers 0.0 |  any agent 0.0 |\n",
       "| Matcho Kali | {'neg': 0.0, 'neu': 1.0, 'pos': 0.0, 'compound': 0.0} |  Opala | Angry eyes; Harshness -0.5106 | _ 0.0 |\n",
       "| Matuba | {'neg': 0.0, 'neu': 1.0, 'pos': 0.0, 'compound': 0.0} |  Territoire des cataractes |  Words 0.0 | _ 0.0 |\n",
       "| Mayala | {'neg': 0.0, 'neu': 1.0, 'pos': 0.0, 'compound': 0.0} |  Territoire des cataractes |  Oppressor 0.0 | _ 0.0 |\n",
       "| Mbavu Munene | {'neg': 0.0, 'neu': 1.0, 'pos': 0.0, 'compound': 0.0} |  everywhere |  Big chest 0.0 | _ 0.0 |\n",
       "| Mbavu Nguvu | {'neg': 0.0, 'neu': 1.0, 'pos': 0.0, 'compound': 0.0} |  everywhere |  Strong chest 0.5106 | _ 0.0 |\n",
       "| Mfumu Mantese | {'neg': 0.0, 'neu': 1.0, 'pos': 0.0, 'compound': 0.0} | nan |  Prince who has things to say  0.0 | A. De Meulemeester 0.0 |\n",
       "| Miere-Miere | {'neg': 0.0, 'neu': 1.0, 'pos': 0.0, 'compound': 0.0} |   Kazembe  |  Many knives; Ferocious and wild warrior -0.1027 |  Mayo-Monteiro 0.0 |\n",
       "| Miso Minei | {'neg': 0.0, 'neu': 1.0, 'pos': 0.0, 'compound': 0.0} | Aruwimi | Leopard's eyes; Theif 0.0 | _ 0.0 |\n",
       "| Miti | {'neg': 0.0, 'neu': 1.0, 'pos': 0.0, 'compound': 0.0} | Kasongo | Trees 0.0 | Middage 0.0 |\n",
       "| Moke | {'neg': 0.0, 'neu': 1.0, 'pos': 0.0, 'compound': 0.0} | Aruwimi | Small, short 0.0 | generic 0.0 |\n",
       "| Moke-Moke | {'neg': 0.0, 'neu': 1.0, 'pos': 0.0, 'compound': 0.0} | Uele-Itimbiri | Small, small; verry small 0.0 | Verstracten 0.0 |\n",
       "| Molanda | {'neg': 0.0, 'neu': 1.0, 'pos': 0.0, 'compound': 0.0} | Uele | Follower 0.0 | Hinde 0.0 |\n",
       "| Mondele Madami | {'neg': 0.0, 'neu': 1.0, 'pos': 0.0, 'compound': 0.0} | nan | Man who is always with is wife 0.0 | Bandundu, Bulungu 0.0 |\n",
       "| Mondele Mboka | {'neg': 0.0, 'neu': 1.0, 'pos': 0.0, 'compound': 0.0} | Aruwimi | Village white man; Native son; Head of the post 0.0 | _ 0.0 |\n",
       "| Mondele na Kawa | {'neg': 0.0, 'neu': 1.0, 'pos': 0.0, 'compound': 0.0} | Province Orientale | White man of coffee 0.0 | generic 0.0 |\n",
       "| Mondele na Loso | {'neg': 0.0, 'neu': 1.0, 'pos': 0.0, 'compound': 0.0} | Province Orientale | White man of rice 0.0 | generic 0.0 |\n",
       "| Mondele na Mbila | {'neg': 0.0, 'neu': 1.0, 'pos': 0.0, 'compound': 0.0} | Province Orientale | White man of palm oil tree 0.0 | generic 0.0 |\n",
       "| Mondele Ngolo | {'neg': 0.0, 'neu': 1.0, 'pos': 0.0, 'compound': 0.0} | Bas Congo | Strong white man 0.5106 | _ 0.0 |\n",
       "| Monganga na Mabele | {'neg': 0.0, 'neu': 1.0, 'pos': 0.0, 'compound': 0.0} | Province Orientale | Earth healer; Mine prospector 0.0 | _ 0.0 |\n",
       "| Monginda(Bonginda) | {'neg': 0.0, 'neu': 1.0, 'pos': 0.0, 'compound': 0.0} | Tomba  | _ 0.0 | Durieux 0.0 |\n",
       "| Mpimbo Mingi | {'neg': 0.0, 'neu': 1.0, 'pos': 0.0, 'compound': 0.0} | Equateur | Much whipping; hippopotamus-hide whip 0.0 | _ 0.0 |\n",
       "| Msirkanda | {'neg': 0.0, 'neu': 1.0, 'pos': 0.0, 'compound': 0.0} | Province Orientale | _ 0.0 | De Meulemeester 0.0 |\n",
       "| Mudiata ou Nyata | {'neg': 0.0, 'neu': 1.0, 'pos': 0.0, 'compound': 0.0} | Katanga | _ 0.0 | Thiry 0.0 |\n",
       "| Mukalenge Leka | {'neg': 0.0, 'neu': 1.0, 'pos': 0.0, 'compound': 0.0} | _ | Prince Leka 0.0 | Legat 0.0 |\n",
       "| Mundele Kikufi | {'neg': 0.0, 'neu': 1.0, 'pos': 0.0, 'compound': 0.0} | Territoire des cararactes | Short white man 0.0 | _ 0.0 |\n",
       "| Mundele Mbisi | {'neg': 0.0, 'neu': 1.0, 'pos': 0.0, 'compound': 0.0} | Bas Congo | _ 0.0 | _ 0.0 |\n",
       "| Mundele Ngolo | {'neg': 0.0, 'neu': 1.0, 'pos': 0.0, 'compound': 0.0} | Bas Congo | Strong white man 0.5106 | _ 0.0 |\n",
       "| Mundele Nioka | {'neg': 0.0, 'neu': 1.0, 'pos': 0.0, 'compound': 0.0} | Bas Congo | White man who is like a snake 0.3612 | _ 0.0 |\n",
       "| Mundele Nzazi | {'neg': 0.0, 'neu': 1.0, 'pos': 0.0, 'compound': 0.0} | Bas Congo | _ 0.0 | _ 0.0 |\n",
       "| Munyololo | {'neg': 0.0, 'neu': 1.0, 'pos': 0.0, 'compound': 0.0} | Eastern congo | Chain, rope 0.0 | _ 0.0 |\n",
       "| Mupe | {'neg': 0.0, 'neu': 1.0, 'pos': 0.0, 'compound': 0.0} | Eastern Congo | Priest 0.0 | generic 0.0 |\n",
       "| Mupenda Batu | {'neg': 0.0, 'neu': 1.0, 'pos': 0.0, 'compound': 0.0} | Irumu, Ituri, Eastern Congo | He who loves people 0.5719 | generic 0.0 |\n",
       "| Mupenda Kula | {'neg': 0.0, 'neu': 1.0, 'pos': 0.0, 'compound': 0.0} | Yanonge | He who likes to eat 0.4215 | _ 0.0 |\n",
       "| Muzungu wa Pamba | {'neg': 0.0, 'neu': 1.0, 'pos': 0.0, 'compound': 0.0} | Kongolo | White man of cotton 0.0 | _ 0.0 |\n",
       "| Mwambe  | {'neg': 0.0, 'neu': 1.0, 'pos': 0.0, 'compound': 0.0} | Basoko | Eight; Eight lashes 0.0 | _ 0.0 |\n",
       "| Mwana Mputu | {'neg': 0.0, 'neu': 1.0, 'pos': 0.0, 'compound': 0.0} | Equateur | Child of Europe 0.0 | H. Bombeeck  0.0 |\n",
       "| Mwandami | {'neg': 0.0, 'neu': 1.0, 'pos': 0.0, 'compound': 0.0} | _ | Madam 0.0 | generic 0.0 |\n",
       "| Mwendo-Mwendo | {'neg': 0.0, 'neu': 1.0, 'pos': 0.0, 'compound': 0.0} | Kazembe | Travel; travel; Voyage at the foot of the world  0.0 | M. Caetano Pereira 0.0 |\n",
       "| Nabira | {'neg': 0.0, 'neu': 1.0, 'pos': 0.0, 'compound': 0.0} | Uele | _ 0.0 | G. Miani 0.0 |\n",
       "| Nafranki | {'neg': 0.0, 'neu': 1.0, 'pos': 0.0, 'compound': 0.0} | Uele | He has white beard and long hair 0.0 | G. Miani 0.0 |\n",
       "| Ndeke, Ndeke-Ndeke | {'neg': 0.0, 'neu': 1.0, 'pos': 0.0, 'compound': 0.0} | _ | Bird; Officials on the move 0.0 | generic 0.0 |\n",
       "| Ndevu | {'neg': 0.0, 'neu': 1.0, 'pos': 0.0, 'compound': 0.0} | Eastern Congo | Bearded white man 0.0 | _ 0.0 |\n",
       "| Ndjole-Ndjole | {'neg': 0.0, 'neu': 1.0, 'pos': 0.0, 'compound': 0.0} | Ekonda | Bearded white man 0.0 | _ 0.0 |\n",
       "| Ndoki | {'neg': 0.0, 'neu': 1.0, 'pos': 0.0, 'compound': 0.0} | Kasongo | Witch -0.3612 | Elter 0.0 |\n",
       "| Ngangabuka | {'neg': 0.0, 'neu': 1.0, 'pos': 0.0, 'compound': 0.0} | Kasai | Priest; God’s healer 0.0 | _ 0.0 |\n",
       "| Nganga Nzambe | {'neg': 0.0, 'neu': 1.0, 'pos': 0.0, 'compound': 0.0} | Equateur, Province Orientale | Priest; God’s healer 0.0 | _ 0.0 |\n",
       "| Ngolo Mingi | {'neg': 0.0, 'neu': 1.0, 'pos': 0.0, 'compound': 0.0} | Bas Congo  | Much Power 0.0 | _ 0.0 |\n",
       "| Ngona na batu | {'neg': 0.0, 'neu': 1.0, 'pos': 0.0, 'compound': 0.0} | Equateur, Province Orientale | Nightly talking slit gong 0.0 | _ 0.0 |\n",
       "| Ngongo Leteta | {'neg': 0.0, 'neu': 1.0, 'pos': 0.0, 'compound': 0.0} | Eastern Congo | Bad Official -0.5423 | generic 0.0 |\n",
       "| Nialakowomubu | {'neg': 0.0, 'neu': 1.0, 'pos': 0.0, 'compound': 0.0} | Lac Leopold II | _ 0.0 | J.M.F. Tumers 0.0 |\n",
       "| Niangeniange | {'neg': 0.0, 'neu': 1.0, 'pos': 0.0, 'compound': 0.0} | _ |  Kisangani  0.0 | G. Geerearts 0.0 |\n",
       "| Nkake  | {'neg': 0.0, 'neu': 1.0, 'pos': 0.0, 'compound': 0.0} | White Province Orientale, Équateur |  Lightning; White cannibals   0.0 | _ 0.0 |\n",
       "| Nkangobeko | {'neg': 0.0, 'neu': 1.0, 'pos': 0.0, 'compound': 0.0} | Inongo | _ 0.0 | Cloetens 0.0 |\n",
       "| Nkoso | {'neg': 0.0, 'neu': 1.0, 'pos': 0.0, 'compound': 0.0} | _ | Parrot 0.0 | _ 0.0 |\n",
       "| Nkoyi(Nkoi) | {'neg': 0.0, 'neu': 1.0, 'pos': 0.0, 'compound': 0.0} | Lac Leopold II | Leopard 0.0 | H. Dupuis Shaw 0.0 |\n",
       "| Nsoni Mingi | {'neg': 0.0, 'neu': 1.0, 'pos': 0.0, 'compound': 0.0} | _ | Very Shameful -0.5413 | J. Fievez 0.0 |\n",
       "| Ntange | {'neg': 0.0, 'neu': 1.0, 'pos': 0.0, 'compound': 0.0} | Lac Leopold II | Bed  0.0 | _ 0.0 |\n",
       "| Nyimi-Nyimi | {'neg': 0.0, 'neu': 1.0, 'pos': 0.0, 'compound': 0.0} | Kasai | Red ant; lack of civilization -0.3182 | _ 0.0 |\n",
       "| Nyoka | {'neg': 0.0, 'neu': 1.0, 'pos': 0.0, 'compound': 0.0} | Katanga | Snake; Resentment -0.4404 | Wilson 0.0 |\n",
       "| Nzoku | {'neg': 0.0, 'neu': 1.0, 'pos': 0.0, 'compound': 0.0} | _ | Elephant 0.0 | _ 0.0 |\n",
       "| Nzokumasi | {'neg': 0.0, 'neu': 1.0, 'pos': 0.0, 'compound': 0.0} | Bas Congo  | _ 0.0 | _ 0.0 |\n",
       "| Ondele W'Ekonge | {'neg': 0.0, 'neu': 1.0, 'pos': 0.0, 'compound': 0.0} |  Opala | White men of urena lobata  0.0 | _ 0.0 |\n",
       "| Padiri | {'neg': 0.0, 'neu': 1.0, 'pos': 0.0, 'compound': 0.0} | Eastern Congo  | Priest 0.0 | _ 0.0 |\n",
       "| Paipo | {'neg': 0.0, 'neu': 1.0, 'pos': 0.0, 'compound': 0.0} | Kilo, Moto | Pipe  0.0 | _ 0.0 |\n",
       "| Pamba | {'neg': 0.0, 'neu': 1.0, 'pos': 0.0, 'compound': 0.0} | Lac Leopold II | _ 0.0 | J. Fievez 0.0 |\n",
       "| Panzi | {'neg': 0.0, 'neu': 1.0, 'pos': 0.0, 'compound': 0.0} | Tomba  | Lying side  -0.5267 | J. Fievez 0.0 |\n",
       "| Pebe | {'neg': 0.0, 'neu': 1.0, 'pos': 0.0, 'compound': 0.0} |  Tomba  | _ 0.0 | Clark 0.0 |\n",
       "| Pete ya Mai ya Sombe | {'neg': 0.0, 'neu': 1.0, 'pos': 0.0, 'compound': 0.0} | Province Orientale | Green stars; cassava leaves color 0.0 | _ 0.0 |\n",
       "| Pole-Pole | {'neg': 0.0, 'neu': 1.0, 'pos': 0.0, 'compound': 0.0} | Eastern Congo | Very calm; slow walker; lazy walker 0.024 | generic 0.0 |\n",
       "| Rumaliza | {'neg': 0.0, 'neu': 1.0, 'pos': 0.0, 'compound': 0.0} | Eastern Congo | Destroyer -0.4588 | _ 0.0 |\n",
       "| Sango | {'neg': 0.0, 'neu': 1.0, 'pos': 0.0, 'compound': 0.0} | Eastern Congo, Equator | Father 0.0 | _ 0.0 |\n",
       "| Sato | {'neg': 0.0, 'neu': 1.0, 'pos': 0.0, 'compound': 0.0} | _ | _ 0.0 | G. Casati 0.0 |\n",
       "| Sesa | {'neg': 0.0, 'neu': 1.0, 'pos': 0.0, 'compound': 0.0} | Basoko | _ 0.0 | Chaltin 0.0 |\n",
       "| Sikitele | {'neg': 0.0, 'neu': 1.0, 'pos': 0.0, 'compound': 0.0} | Bandundu, Equator Province Orientale | Secretary 0.0 | generic 0.0 |\n",
       "| Sikoti | {'neg': 0.0, 'neu': 1.0, 'pos': 0.0, 'compound': 0.0} | _ | Much whipping; hippopotamus-hide whip 0.0 | generic 0.0 |\n",
       "| Simba Bulaya | {'neg': 0.0, 'neu': 1.0, 'pos': 0.0, 'compound': 0.0} | Katanga, Eastern Congo | Europe's lion 0.0 | _ 0.0 |\n",
       "| Singa | {'neg': 0.0, 'neu': 1.0, 'pos': 0.0, 'compound': 0.0} | Basoko | _ 0.0 | Van Wert 0.0 |\n",
       "| Situka | {'neg': 0.0, 'neu': 1.0, 'pos': 0.0, 'compound': 0.0} | Kisangani | _ 0.0 | Foerch 0.0 |\n",
       "| Sokele(Lokele) | {'neg': 0.0, 'neu': 1.0, 'pos': 0.0, 'compound': 0.0} | Lac Leopold II | _ 0.0 | L. A. Borms 0.0 |\n",
       "| Soso Aleli | {'neg': 0.0, 'neu': 1.0, 'pos': 0.0, 'compound': 0.0} | Province Orientale | Rooster has crowed 0.0 | _ 0.0 |\n",
       "| Soso Mombi | {'neg': 0.0, 'neu': 1.0, 'pos': 0.0, 'compound': 0.0} | Chez Gobila | White feathered chicken 0.0 | Janssen 0.0 |\n",
       "| Soso Mpembe | {'neg': 0.0, 'neu': 1.0, 'pos': 0.0, 'compound': 0.0} | Lac Leopold II | White feathered chicken 0.0 | Janssen 0.0 |\n",
       "| Sukuma | {'neg': 0.0, 'neu': 1.0, 'pos': 0.0, 'compound': 0.0} | Nyangwe | Push 0.0 | Losange 0.0 |\n",
       "| Tange | {'neg': 0.0, 'neu': 1.0, 'pos': 0.0, 'compound': 0.0} | Equateur | Bed 0.0 | J. Fievez 0.0 |\n",
       "| Tata | {'neg': 0.0, 'neu': 1.0, 'pos': 0.0, 'compound': 0.0} | Equateur | Father 0.0 | J. Fievez 0.0 |\n",
       "| Tomansangu | {'neg': 0.0, 'neu': 1.0, 'pos': 0.0, 'compound': 0.0} | Bas Congo  | Send news; News maker 0.0 | _ 0.0 |\n",
       "| Tomilali | {'neg': 0.0, 'neu': 1.0, 'pos': 0.0, 'compound': 0.0} | Opala | Court 0.0 | _ 0.0 |\n",
       "| Tomo | {'neg': 0.0, 'neu': 1.0, 'pos': 0.0, 'compound': 0.0} | Katanga | _ 0.0 | _ 0.0 |\n",
       "| Toro | {'neg': 0.0, 'neu': 1.0, 'pos': 0.0, 'compound': 0.0} | Basoko | _ 0.0 | Lund 0.0 |\n",
       "| Tshienda Bitekete | {'neg': 0.0, 'neu': 1.0, 'pos': 0.0, 'compound': 0.0} | Kasai | Lazy Walker -0.3612 | _ 0.0 |\n",
       "| Tshiwayawaya | {'neg': 0.0, 'neu': 1.0, 'pos': 0.0, 'compound': 0.0} | Kasai | Balance in breeze 0.0 | _ 0.0 |\n",
       "| Tshoma-Tshoma | {'neg': 0.0, 'neu': 1.0, 'pos': 0.0, 'compound': 0.0} | Aruwimi | He who burns people 0.0 | C. Van de Laniotte 0.0 |\n",
       "| Tshombe Bululu | {'neg': 0.0, 'neu': 1.0, 'pos': 0.0, 'compound': 0.0} | Kasai | Bitter cassava leaves -0.4215 | Gillian 0.0 |\n",
       "| Tuku-Tuku | {'neg': 0.0, 'neu': 1.0, 'pos': 0.0, 'compound': 0.0} | Kongolo | Motorcycle 0.0 | generic 0.0 |\n",
       "| Tuku-Tuku | {'neg': 0.0, 'neu': 1.0, 'pos': 0.0, 'compound': 0.0} | Kisangani | Motorcycle 0.0 | V. Rue 0.0 |\n",
       "| Tumbaku | {'neg': 0.0, 'neu': 1.0, 'pos': 0.0, 'compound': 0.0} | Kisangani | Tobacco, sticky mouth and stained teeth 0.0 | N. Tobback 0.0 |\n",
       "| Tumba Lombe | {'neg': 0.0, 'neu': 1.0, 'pos': 0.0, 'compound': 0.0} | Equateur | Home Burner 0.0 | _ 0.0 |\n",
       "| Tumpa Mokono | {'neg': 0.0, 'neu': 1.0, 'pos': 0.0, 'compound': 0.0} | Moto | Throw hand 0.4939 | _ 0.0 |\n",
       "| Vandebunduki | {'neg': 0.0, 'neu': 1.0, 'pos': 0.0, 'compound': 0.0} | Lac Leopold II | Vande, the gunman 0.0 | L. Van den Brooke 0.0 |\n",
       "| Vandenbuluki | {'neg': 0.0, 'neu': 1.0, 'pos': 0.0, 'compound': 0.0} | Lac Leopold II | Vande, the witch -0.3612 | L. Van den Brooke 0.0 |\n",
       "| Vansina | {'neg': 0.0, 'neu': 1.0, 'pos': 0.0, 'compound': 0.0} | _ | Sit down 0.0 | J. Vansina 0.0 |\n",
       "| Wai-Wai | {'neg': 0.0, 'neu': 1.0, 'pos': 0.0, 'compound': 0.0} | Kamina | Big troublemaker -0.4588 | generic 0.0 |\n",
       "| Yamba-Yamba | {'neg': 0.0, 'neu': 1.0, 'pos': 0.0, 'compound': 0.0} | Kasongo | Defecate, defecate 0.0 | Bosoni 0.0 |\n"
      ],
      "text/plain": [
       "<IPython.core.display.Markdown object>"
      ]
     },
     "metadata": {},
     "output_type": "display_data"
    }
   ],
   "source": [
    "headers = ['local name', 'score', 'location', 'translation', 'real name']\n",
    "# This line denotes the first line of output data, our heading\n",
    "\n",
    "rows = [[names_1[num], sw_name_analyzer(names), location[num], \n",
    "         str(transl[num] + \" \" + str(en_name_analyzer(trnl)['compound'])), \n",
    "         str(names_2[num] + \" \" + str(en_name_analyzer(name_2)['compound']))] \n",
    "        for num, (names, name_2, trnl) in enumerate(zip(names_1, names_2, transl))]\n",
    "# This section of code defines the rows that will be generated.\n",
    "# It relies on various other functions and lists define above, but this is the most critical section.\n",
    "\n",
    "# 1st line - local names, local name scores, and location lists\n",
    "# 2nd line - Translation list\n",
    "# 3rd line - Real names / origin list\n",
    "# last line - for #, (variables) in enumerate(three different lists)\n",
    "\n",
    "\n",
    "show_markdown_table(headers, rows)\n",
    "# This function combines the two lines above to compile output\n",
    "\n",
    "# can also do # sw_name_analyzer(names)['compound']"
   ]
  },
  {
   "cell_type": "markdown",
   "id": "feac1178",
   "metadata": {},
   "source": [
    "Now that we have performed the necessary evaluation of our names, lets organize the data."
   ]
  },
  {
   "cell_type": "code",
   "execution_count": 41,
   "id": "d14db94c",
   "metadata": {},
   "outputs": [],
   "source": [
    "# Organize by region here"
   ]
  },
  {
   "cell_type": "markdown",
   "id": "4d317b9a",
   "metadata": {},
   "source": [
    "In this file we have used the [Vader](https://towardsdatascience.com/sentimental-analysis-using-vader-a3415fef7664) library to perform Sentiment Analysis on a list of roughly 270 names. Vader allows for the performance of multilingual Sentiment analysis through 3rd party translation APIs. What this means is that inputs from other languages are translated to english in order to calculate a sentiment score. I tried looking for a Natural Language Processing database in Swahili, Kikongo, & Lingala. But resources in computer science are sparse in these langauges.\n",
    "\n",
    "For the reasons above, the words with translated sentiment should be weighted less in the consideration of the word's lasting impact today."
   ]
  },
  {
   "cell_type": "markdown",
   "id": "8efbdafb",
   "metadata": {},
   "source": []
  }
 ],
 "metadata": {
  "kernelspec": {
   "display_name": "myenv",
   "language": "python",
   "name": "myenv"
  },
  "language_info": {
   "codemirror_mode": {
    "name": "ipython",
    "version": 3
   },
   "file_extension": ".py",
   "mimetype": "text/x-python",
   "name": "python",
   "nbconvert_exporter": "python",
   "pygments_lexer": "ipython3",
   "version": "3.9.12"
  }
 },
 "nbformat": 4,
 "nbformat_minor": 5
}
